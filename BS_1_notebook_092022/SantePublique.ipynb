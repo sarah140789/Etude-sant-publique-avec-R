{
 "cells": [
  {
   "cell_type": "markdown",
   "id": "b301373d",
   "metadata": {},
   "source": [
    "# importation "
   ]
  },
  {
   "cell_type": "code",
   "execution_count": 1,
   "id": "d571c2d0",
   "metadata": {},
   "outputs": [],
   "source": [
    "import pandas as pd\n",
    "import os\n",
    "import matplotlib.pyplot as plt\n",
    "import seaborn as sb\n",
    "pd.set_option('display.max_columns', None)"
   ]
  },
  {
   "cell_type": "code",
   "execution_count": 2,
   "id": "794eff4f",
   "metadata": {},
   "outputs": [],
   "source": [
    "#os.chdir (\"/Users/judith/Documents/OCP4/DAN-P4-FAO\")"
   ]
  },
  {
   "cell_type": "code",
   "execution_count": 3,
   "id": "b687e606",
   "metadata": {},
   "outputs": [],
   "source": [
    "population = pd.read_csv(\"DAN-P4-FAO/population.csv\")\n",
    "sousNutrition = pd.read_csv(\"DAN-P4-FAO/sous_nutrition.csv\")\n",
    "dispoAlimentaire = pd.read_csv(\"DAN-P4-FAO/dispo_alimentaire.csv\")\n",
    "aideAlimentaire = pd.read_csv(\"DAN-P4-FAO/aide_alimentaire.csv\")\n",
    "cereales = pd.read_csv(\"DAN-P4-FAO/cereales-2017.csv\")"
   ]
  },
  {
   "cell_type": "markdown",
   "id": "7c65ad9e",
   "metadata": {},
   "source": [
    "# Cleaning \n"
   ]
  },
  {
   "cell_type": "code",
   "execution_count": 4,
   "id": "304a21fb",
   "metadata": {},
   "outputs": [],
   "source": [
    "# Remplir les valeurs NA/NaN par 0"
   ]
  },
  {
   "cell_type": "code",
   "execution_count": 5,
   "id": "5355d791",
   "metadata": {},
   "outputs": [],
   "source": [
    "#Revoir et faire des head , controle sur les colonnes non numériques\n",
    "sousNutrition = sousNutrition.fillna(0)\n",
    "dispoAlimentaire = dispoAlimentaire.fillna(0)\n",
    "aideAlimentaire = aideAlimentaire.fillna(0)\n",
    "cereales =cereales.fillna(0)"
   ]
  },
  {
   "cell_type": "code",
   "execution_count": 6,
   "id": "aa3b6251",
   "metadata": {},
   "outputs": [],
   "source": [
    "#Mettre à la bonne échelle les valeurs de dispoAlimentaire"
   ]
  },
  {
   "cell_type": "code",
   "execution_count": 7,
   "id": "9af80a5b",
   "metadata": {
    "scrolled": true
   },
   "outputs": [],
   "source": [
    "dispoAlimentaire = dispoAlimentaire.apply(lambda x: 1000*x if x.name in ['Aliments pour animaux', 'Autres Utilisations', 'Disponibilité intérieure', 'Exportations - Quantité', 'Importations - Quantité', 'Nourriture', 'Pertes', 'Production', 'Semences', 'Traitement', 'Variation de stock'] else x)"
   ]
  },
  {
   "cell_type": "code",
   "execution_count": 8,
   "id": "2e4cf7a2",
   "metadata": {},
   "outputs": [],
   "source": [
    "#Convertir les valeurs au type numérique , définir l'anlyse invalide en NAN avec coerce puis remplacer les\n",
    "#NAN par 0"
   ]
  },
  {
   "cell_type": "code",
   "execution_count": 9,
   "id": "e76fa2c6",
   "metadata": {},
   "outputs": [],
   "source": [
    "sousNutrition['Valeur'] = pd.to_numeric(sousNutrition['Valeur'], errors='coerce')\n",
    "sousNutrition.fillna(0, inplace=True)"
   ]
  },
  {
   "cell_type": "code",
   "execution_count": 10,
   "id": "a4864749",
   "metadata": {},
   "outputs": [],
   "source": [
    "#Mettre à la bonne échelle les valeurs de population"
   ]
  },
  {
   "cell_type": "code",
   "execution_count": 11,
   "id": "849190d1",
   "metadata": {},
   "outputs": [],
   "source": [
    "population.Valeur =population.Valeur*1000"
   ]
  },
  {
   "cell_type": "code",
   "execution_count": 12,
   "id": "013e3101",
   "metadata": {},
   "outputs": [],
   "source": [
    "#Séléction de la population sur 2017"
   ]
  },
  {
   "cell_type": "code",
   "execution_count": 13,
   "id": "367504c7",
   "metadata": {},
   "outputs": [],
   "source": [
    "population = population.loc[population['Année']==2017]"
   ]
  },
  {
   "cell_type": "code",
   "execution_count": 14,
   "id": "653a5525",
   "metadata": {},
   "outputs": [],
   "source": [
    "#Mettre à la bonne échelle les valeurs de sous nutrition"
   ]
  },
  {
   "cell_type": "code",
   "execution_count": 15,
   "id": "fae96516",
   "metadata": {},
   "outputs": [],
   "source": [
    "sousNutrition.Valeur=sousNutrition.Valeur*1000000"
   ]
  },
  {
   "cell_type": "code",
   "execution_count": 16,
   "id": "3f7ece84",
   "metadata": {},
   "outputs": [],
   "source": [
    "sousNutrition.rename(columns= {'Valeur_x':'Personne sous-nutrition', 'Valeur_y': 'Population'}, inplace= True)"
   ]
  },
  {
   "cell_type": "markdown",
   "id": "2292d156",
   "metadata": {},
   "source": [
    "# La proportion de personnes en état de sous-nutrition en 2017"
   ]
  },
  {
   "cell_type": "code",
   "execution_count": 17,
   "id": "404910bc",
   "metadata": {},
   "outputs": [],
   "source": [
    "#Filtrage sur l'année 2017 et renommage des colonnes\n",
    "sousNutrition = pd.merge(sousNutrition.loc[sousNutrition['Année']=='2016-2018',['Valeur', 'Zone']],\n",
    "                             population.loc[population['Année']==2017,['Valeur','Zone']], on='Zone')\n",
    "sousNutrition.rename(columns= {'Valeur_x':'Personne sous-nutrition', 'Valeur_y': 'Population'}, inplace= True)"
   ]
  },
  {
   "cell_type": "code",
   "execution_count": 18,
   "id": "ce4e3df4",
   "metadata": {},
   "outputs": [
    {
     "name": "stdout",
     "output_type": "stream",
     "text": [
      "La population mondiale compte 7 543 798 779 habitants.\n"
     ]
    }
   ],
   "source": [
    "# Calcul de la population mondiale \n",
    "\n",
    "populationMondiale = (sousNutrition['Population'].sum())\n",
    "print(\"La population mondiale compte {:,.0f} habitants.\".format(populationMondiale).replace(',', ' '))"
   ]
  },
  {
   "cell_type": "code",
   "execution_count": 19,
   "id": "34461f3f",
   "metadata": {},
   "outputs": [],
   "source": [
    "# Modification du type \n",
    "sousNutrition['Personne sous-nutrition'] = sousNutrition['Personne sous-nutrition'].astype(\"float64\")"
   ]
  },
  {
   "cell_type": "code",
   "execution_count": 20,
   "id": "0d45e719",
   "metadata": {},
   "outputs": [
    {
     "name": "stdout",
     "output_type": "stream",
     "text": [
      "Le nombre total de personnes en sous-nutrition est 535 700 000 habitants.\n"
     ]
    }
   ],
   "source": [
    "# Calcul du nombre total de personnes en sous-nutrition \n",
    "personneSousNutrition = sousNutrition['Personne sous-nutrition'].sum()\n",
    "print(\"Le nombre total de personnes en sous-nutrition est {:,.0f} habitants.\".format(personneSousNutrition).replace(',', ' '))"
   ]
  },
  {
   "cell_type": "code",
   "execution_count": 21,
   "id": "c291ba41",
   "metadata": {},
   "outputs": [
    {
     "name": "stdout",
     "output_type": "stream",
     "text": [
      "En 2017 : 7.10 % de la population mondiale est en état de sous-nutrition.\n"
     ]
    }
   ],
   "source": [
    "#Proportion du nombre de personnes en sous nutrition\n",
    "proportion = (personneSousNutrition / populationMondiale )*100\n",
    "print(\"En 2017 : {:,.2f} % de la population mondiale est en état de sous-nutrition.\".format(proportion).replace(',', ' '))"
   ]
  },
  {
   "cell_type": "markdown",
   "id": "caf7125e",
   "metadata": {},
   "source": [
    "# Le nombre de personnes qui pourraient être nourries en 2017"
   ]
  },
  {
   "cell_type": "code",
   "execution_count": 22,
   "id": "a3f3cb3a",
   "metadata": {},
   "outputs": [],
   "source": [
    "# Sélection des colonnes\n",
    "subColonne=['Zone','Disponibilité alimentaire (Kcal/personne/jour)','Origine',\n",
    "                           'Disponibilité alimentaire en quantité (kg/personne/an)',\n",
    "                           'Disponibilité de matière grasse en quantité (g/personne/jour)',\n",
    "                           'Disponibilité de protéines en quantité (g/personne/jour)',\n",
    "     'Disponibilité intérieure','Exportations - Quantité','Importations - Quantité']\n",
    "subdispoAlimentaire=dispoAlimentaire[subColonne]"
   ]
  },
  {
   "cell_type": "code",
   "execution_count": 23,
   "id": "93371d55",
   "metadata": {
    "scrolled": true
   },
   "outputs": [
    {
     "data": {
      "text/html": [
       "<div>\n",
       "<style scoped>\n",
       "    .dataframe tbody tr th:only-of-type {\n",
       "        vertical-align: middle;\n",
       "    }\n",
       "\n",
       "    .dataframe tbody tr th {\n",
       "        vertical-align: top;\n",
       "    }\n",
       "\n",
       "    .dataframe thead th {\n",
       "        text-align: right;\n",
       "    }\n",
       "</style>\n",
       "<table border=\"1\" class=\"dataframe\">\n",
       "  <thead>\n",
       "    <tr style=\"text-align: right;\">\n",
       "      <th></th>\n",
       "      <th>Zone</th>\n",
       "      <th>Disponibilité alimentaire (Kcal/personne/jour)</th>\n",
       "      <th>Origine</th>\n",
       "      <th>Disponibilité alimentaire en quantité (kg/personne/an)</th>\n",
       "      <th>Disponibilité de matière grasse en quantité (g/personne/jour)</th>\n",
       "      <th>Disponibilité de protéines en quantité (g/personne/jour)</th>\n",
       "      <th>Disponibilité intérieure</th>\n",
       "      <th>Exportations - Quantité</th>\n",
       "      <th>Importations - Quantité</th>\n",
       "    </tr>\n",
       "  </thead>\n",
       "  <tbody>\n",
       "    <tr>\n",
       "      <th>0</th>\n",
       "      <td>Afghanistan</td>\n",
       "      <td>5.0</td>\n",
       "      <td>animale</td>\n",
       "      <td>1.72</td>\n",
       "      <td>0.20</td>\n",
       "      <td>0.77</td>\n",
       "      <td>53000.0</td>\n",
       "      <td>0.0</td>\n",
       "      <td>0.0</td>\n",
       "    </tr>\n",
       "    <tr>\n",
       "      <th>1</th>\n",
       "      <td>Afghanistan</td>\n",
       "      <td>1.0</td>\n",
       "      <td>vegetale</td>\n",
       "      <td>1.29</td>\n",
       "      <td>0.01</td>\n",
       "      <td>0.02</td>\n",
       "      <td>41000.0</td>\n",
       "      <td>2000.0</td>\n",
       "      <td>40000.0</td>\n",
       "    </tr>\n",
       "    <tr>\n",
       "      <th>2</th>\n",
       "      <td>Afghanistan</td>\n",
       "      <td>1.0</td>\n",
       "      <td>vegetale</td>\n",
       "      <td>0.06</td>\n",
       "      <td>0.01</td>\n",
       "      <td>0.03</td>\n",
       "      <td>2000.0</td>\n",
       "      <td>0.0</td>\n",
       "      <td>2000.0</td>\n",
       "    </tr>\n",
       "    <tr>\n",
       "      <th>3</th>\n",
       "      <td>Afghanistan</td>\n",
       "      <td>0.0</td>\n",
       "      <td>vegetale</td>\n",
       "      <td>0.00</td>\n",
       "      <td>0.00</td>\n",
       "      <td>0.00</td>\n",
       "      <td>0.0</td>\n",
       "      <td>0.0</td>\n",
       "      <td>0.0</td>\n",
       "    </tr>\n",
       "    <tr>\n",
       "      <th>4</th>\n",
       "      <td>Afghanistan</td>\n",
       "      <td>4.0</td>\n",
       "      <td>vegetale</td>\n",
       "      <td>2.70</td>\n",
       "      <td>0.02</td>\n",
       "      <td>0.05</td>\n",
       "      <td>82000.0</td>\n",
       "      <td>0.0</td>\n",
       "      <td>82000.0</td>\n",
       "    </tr>\n",
       "  </tbody>\n",
       "</table>\n",
       "</div>"
      ],
      "text/plain": [
       "          Zone  Disponibilité alimentaire (Kcal/personne/jour)   Origine  \\\n",
       "0  Afghanistan                                             5.0   animale   \n",
       "1  Afghanistan                                             1.0  vegetale   \n",
       "2  Afghanistan                                             1.0  vegetale   \n",
       "3  Afghanistan                                             0.0  vegetale   \n",
       "4  Afghanistan                                             4.0  vegetale   \n",
       "\n",
       "   Disponibilité alimentaire en quantité (kg/personne/an)  \\\n",
       "0                                               1.72        \n",
       "1                                               1.29        \n",
       "2                                               0.06        \n",
       "3                                               0.00        \n",
       "4                                               2.70        \n",
       "\n",
       "   Disponibilité de matière grasse en quantité (g/personne/jour)  \\\n",
       "0                                               0.20               \n",
       "1                                               0.01               \n",
       "2                                               0.01               \n",
       "3                                               0.00               \n",
       "4                                               0.02               \n",
       "\n",
       "   Disponibilité de protéines en quantité (g/personne/jour)  \\\n",
       "0                                               0.77          \n",
       "1                                               0.02          \n",
       "2                                               0.03          \n",
       "3                                               0.00          \n",
       "4                                               0.05          \n",
       "\n",
       "   Disponibilité intérieure  Exportations - Quantité  Importations - Quantité  \n",
       "0                   53000.0                      0.0                      0.0  \n",
       "1                   41000.0                   2000.0                  40000.0  \n",
       "2                    2000.0                      0.0                   2000.0  \n",
       "3                       0.0                      0.0                      0.0  \n",
       "4                   82000.0                      0.0                  82000.0  "
      ]
     },
     "execution_count": 23,
     "metadata": {},
     "output_type": "execute_result"
    }
   ],
   "source": [
    "subdispoAlimentaire.head()"
   ]
  },
  {
   "cell_type": "code",
   "execution_count": 24,
   "id": "e6e1edcd",
   "metadata": {
    "scrolled": false
   },
   "outputs": [
    {
     "data": {
      "text/html": [
       "<div>\n",
       "<style scoped>\n",
       "    .dataframe tbody tr th:only-of-type {\n",
       "        vertical-align: middle;\n",
       "    }\n",
       "\n",
       "    .dataframe tbody tr th {\n",
       "        vertical-align: top;\n",
       "    }\n",
       "\n",
       "    .dataframe thead th {\n",
       "        text-align: right;\n",
       "    }\n",
       "</style>\n",
       "<table border=\"1\" class=\"dataframe\">\n",
       "  <thead>\n",
       "    <tr style=\"text-align: right;\">\n",
       "      <th></th>\n",
       "      <th>Zone</th>\n",
       "      <th>Disponibilité alimentaire (Kcal/personne/jour)</th>\n",
       "      <th>Origine</th>\n",
       "      <th>Disponibilité alimentaire en quantité (kg/personne/an)</th>\n",
       "      <th>Disponibilité de matière grasse en quantité (g/personne/jour)</th>\n",
       "      <th>Disponibilité de protéines en quantité (g/personne/jour)</th>\n",
       "      <th>Disponibilité intérieure</th>\n",
       "      <th>Exportations - Quantité</th>\n",
       "      <th>Importations - Quantité</th>\n",
       "      <th>Année</th>\n",
       "      <th>Valeur</th>\n",
       "    </tr>\n",
       "  </thead>\n",
       "  <tbody>\n",
       "    <tr>\n",
       "      <th>0</th>\n",
       "      <td>Afghanistan</td>\n",
       "      <td>5.0</td>\n",
       "      <td>animale</td>\n",
       "      <td>1.72</td>\n",
       "      <td>0.20</td>\n",
       "      <td>0.77</td>\n",
       "      <td>53000.0</td>\n",
       "      <td>0.0</td>\n",
       "      <td>0.0</td>\n",
       "      <td>2017.0</td>\n",
       "      <td>36296113.0</td>\n",
       "    </tr>\n",
       "    <tr>\n",
       "      <th>1</th>\n",
       "      <td>Afghanistan</td>\n",
       "      <td>1.0</td>\n",
       "      <td>vegetale</td>\n",
       "      <td>1.29</td>\n",
       "      <td>0.01</td>\n",
       "      <td>0.02</td>\n",
       "      <td>41000.0</td>\n",
       "      <td>2000.0</td>\n",
       "      <td>40000.0</td>\n",
       "      <td>2017.0</td>\n",
       "      <td>36296113.0</td>\n",
       "    </tr>\n",
       "    <tr>\n",
       "      <th>2</th>\n",
       "      <td>Afghanistan</td>\n",
       "      <td>1.0</td>\n",
       "      <td>vegetale</td>\n",
       "      <td>0.06</td>\n",
       "      <td>0.01</td>\n",
       "      <td>0.03</td>\n",
       "      <td>2000.0</td>\n",
       "      <td>0.0</td>\n",
       "      <td>2000.0</td>\n",
       "      <td>2017.0</td>\n",
       "      <td>36296113.0</td>\n",
       "    </tr>\n",
       "    <tr>\n",
       "      <th>3</th>\n",
       "      <td>Afghanistan</td>\n",
       "      <td>0.0</td>\n",
       "      <td>vegetale</td>\n",
       "      <td>0.00</td>\n",
       "      <td>0.00</td>\n",
       "      <td>0.00</td>\n",
       "      <td>0.0</td>\n",
       "      <td>0.0</td>\n",
       "      <td>0.0</td>\n",
       "      <td>2017.0</td>\n",
       "      <td>36296113.0</td>\n",
       "    </tr>\n",
       "    <tr>\n",
       "      <th>4</th>\n",
       "      <td>Afghanistan</td>\n",
       "      <td>4.0</td>\n",
       "      <td>vegetale</td>\n",
       "      <td>2.70</td>\n",
       "      <td>0.02</td>\n",
       "      <td>0.05</td>\n",
       "      <td>82000.0</td>\n",
       "      <td>0.0</td>\n",
       "      <td>82000.0</td>\n",
       "      <td>2017.0</td>\n",
       "      <td>36296113.0</td>\n",
       "    </tr>\n",
       "  </tbody>\n",
       "</table>\n",
       "</div>"
      ],
      "text/plain": [
       "          Zone  Disponibilité alimentaire (Kcal/personne/jour)   Origine  \\\n",
       "0  Afghanistan                                             5.0   animale   \n",
       "1  Afghanistan                                             1.0  vegetale   \n",
       "2  Afghanistan                                             1.0  vegetale   \n",
       "3  Afghanistan                                             0.0  vegetale   \n",
       "4  Afghanistan                                             4.0  vegetale   \n",
       "\n",
       "   Disponibilité alimentaire en quantité (kg/personne/an)  \\\n",
       "0                                               1.72        \n",
       "1                                               1.29        \n",
       "2                                               0.06        \n",
       "3                                               0.00        \n",
       "4                                               2.70        \n",
       "\n",
       "   Disponibilité de matière grasse en quantité (g/personne/jour)  \\\n",
       "0                                               0.20               \n",
       "1                                               0.01               \n",
       "2                                               0.01               \n",
       "3                                               0.00               \n",
       "4                                               0.02               \n",
       "\n",
       "   Disponibilité de protéines en quantité (g/personne/jour)  \\\n",
       "0                                               0.77          \n",
       "1                                               0.02          \n",
       "2                                               0.03          \n",
       "3                                               0.00          \n",
       "4                                               0.05          \n",
       "\n",
       "   Disponibilité intérieure  Exportations - Quantité  Importations - Quantité  \\\n",
       "0                   53000.0                      0.0                      0.0   \n",
       "1                   41000.0                   2000.0                  40000.0   \n",
       "2                    2000.0                      0.0                   2000.0   \n",
       "3                       0.0                      0.0                      0.0   \n",
       "4                   82000.0                      0.0                  82000.0   \n",
       "\n",
       "    Année      Valeur  \n",
       "0  2017.0  36296113.0  \n",
       "1  2017.0  36296113.0  \n",
       "2  2017.0  36296113.0  \n",
       "3  2017.0  36296113.0  \n",
       "4  2017.0  36296113.0  "
      ]
     },
     "execution_count": 24,
     "metadata": {},
     "output_type": "execute_result"
    }
   ],
   "source": [
    "# Jointure avec comme clé la colonne 'Zone'et ajouter les données complémentaires dispoAlimentaire\n",
    "\n",
    "mergeDispoPopulation = pd.merge( subdispoAlimentaire,population , on = \"Zone\", how=\"left\")\n",
    "mergeDispoPopulation.head()\n"
   ]
  },
  {
   "cell_type": "code",
   "execution_count": 25,
   "id": "72cd81ad",
   "metadata": {},
   "outputs": [
    {
     "name": "stdout",
     "output_type": "stream",
     "text": [
      "La quantité de disponibilité alimentaire est de : 7 635 429 388 975 815.00 Kcal\n"
     ]
    }
   ],
   "source": [
    "# Calcul de la disponibilité alimentaire (Kcal) totale\n",
    "\n",
    "totalDispoKal = (((mergeDispoPopulation['Valeur']) * (mergeDispoPopulation['Disponibilité alimentaire (Kcal/personne/jour)'])).sum())*365\n",
    "print(\"La quantité de disponibilité alimentaire est de : {:,.2f} Kcal\".format(totalDispoKal).replace(',', ' '))\n",
    "\n"
   ]
  },
  {
   "cell_type": "code",
   "execution_count": 26,
   "id": "9f595bc2",
   "metadata": {},
   "outputs": [
    {
     "name": "stdout",
     "output_type": "stream",
     "text": [
      "Le nombre théorique de personnes qui pourraient être nourries en 2017 est: 8 367 593 851 personnes.\n"
     ]
    }
   ],
   "source": [
    "# Calcul du nombre de personnes pouvant être nourris avec la disponibilité alimentaire \n",
    "\n",
    "totalNourri = totalDispoKal/(2500*365)\n",
    "\n",
    "print(\"Le nombre théorique de personnes qui pourraient être nourries en 2017 est: {:,.0f} personnes.\".format(totalNourri).replace(',', ' '))"
   ]
  },
  {
   "cell_type": "code",
   "execution_count": 27,
   "id": "38b170fc",
   "metadata": {},
   "outputs": [
    {
     "name": "stdout",
     "output_type": "stream",
     "text": [
      "La population totale en 2017 est: 7 548 134 111 personnes.\n"
     ]
    }
   ],
   "source": [
    "# Calcul de la population mondiale\n",
    "populationMondiale = (population['Valeur']).sum()\n",
    "\n",
    "print(\"La population totale en 2017 est: {:,.0f} personnes.\".format(populationMondiale).replace(',', ' '))\n"
   ]
  },
  {
   "cell_type": "code",
   "execution_count": 28,
   "id": "ab0e5ee1",
   "metadata": {
    "scrolled": true
   },
   "outputs": [
    {
     "name": "stdout",
     "output_type": "stream",
     "text": [
      "La proportion de personnes pouvant être nourries avec la disponibilité alimentaire totale est de : 110.86 %\n"
     ]
    }
   ],
   "source": [
    "# Calcul de la proportion de personnes pouvant être nourries\n",
    "proportion = ((totalNourri/populationMondiale)*100)\n",
    "print(\"La proportion de personnes pouvant être nourries avec la disponibilité alimentaire totale est de : {:,.2f} %\".format(proportion))"
   ]
  },
  {
   "cell_type": "markdown",
   "id": "947e9cf7",
   "metadata": {},
   "source": [
    "# Disponibilité alimentaire des produits végétaux en 2017"
   ]
  },
  {
   "cell_type": "code",
   "execution_count": 29,
   "id": "cae88837",
   "metadata": {},
   "outputs": [],
   "source": [
    "# Garder seulement les colonnes dont nous avons besoin\n",
    "dispoAlimentaireA = dispoAlimentaire[['Zone','Produit','Origine','Disponibilité alimentaire (Kcal/personne/jour)','Disponibilité alimentaire en quantité (kg/personne/an)','Disponibilité de protéines en quantité (g/personne/jour)']]"
   ]
  },
  {
   "cell_type": "code",
   "execution_count": 30,
   "id": "9cb69dc3",
   "metadata": {},
   "outputs": [],
   "source": [
    "# Filtrer sur les données pour les aliments d'origine végétal.\n",
    "dispoAlimentaireA = dispoAlimentaireA.loc[dispoAlimentaire['Origine'] == 'vegetale',:]"
   ]
  },
  {
   "cell_type": "code",
   "execution_count": 31,
   "id": "22051c35",
   "metadata": {
    "scrolled": false
   },
   "outputs": [
    {
     "data": {
      "text/html": [
       "<div>\n",
       "<style scoped>\n",
       "    .dataframe tbody tr th:only-of-type {\n",
       "        vertical-align: middle;\n",
       "    }\n",
       "\n",
       "    .dataframe tbody tr th {\n",
       "        vertical-align: top;\n",
       "    }\n",
       "\n",
       "    .dataframe thead th {\n",
       "        text-align: right;\n",
       "    }\n",
       "</style>\n",
       "<table border=\"1\" class=\"dataframe\">\n",
       "  <thead>\n",
       "    <tr style=\"text-align: right;\">\n",
       "      <th></th>\n",
       "      <th>Disponibilité alimentaire (Kcal/personne/jour)</th>\n",
       "      <th>Disponibilité alimentaire en quantité (kg/personne/an)</th>\n",
       "      <th>Disponibilité de protéines en quantité (g/personne/jour)</th>\n",
       "    </tr>\n",
       "    <tr>\n",
       "      <th>Zone</th>\n",
       "      <th></th>\n",
       "      <th></th>\n",
       "      <th></th>\n",
       "    </tr>\n",
       "  </thead>\n",
       "  <tbody>\n",
       "    <tr>\n",
       "      <th>Afghanistan</th>\n",
       "      <td>1871.0</td>\n",
       "      <td>271.49</td>\n",
       "      <td>46.05</td>\n",
       "    </tr>\n",
       "    <tr>\n",
       "      <th>Afrique du Sud</th>\n",
       "      <td>2533.0</td>\n",
       "      <td>425.17</td>\n",
       "      <td>48.94</td>\n",
       "    </tr>\n",
       "    <tr>\n",
       "      <th>Albanie</th>\n",
       "      <td>2203.0</td>\n",
       "      <td>706.49</td>\n",
       "      <td>51.96</td>\n",
       "    </tr>\n",
       "    <tr>\n",
       "      <th>Algérie</th>\n",
       "      <td>2915.0</td>\n",
       "      <td>632.35</td>\n",
       "      <td>66.94</td>\n",
       "    </tr>\n",
       "    <tr>\n",
       "      <th>Allemagne</th>\n",
       "      <td>2461.0</td>\n",
       "      <td>568.82</td>\n",
       "      <td>39.90</td>\n",
       "    </tr>\n",
       "  </tbody>\n",
       "</table>\n",
       "</div>"
      ],
      "text/plain": [
       "                Disponibilité alimentaire (Kcal/personne/jour)  \\\n",
       "Zone                                                             \n",
       "Afghanistan                                             1871.0   \n",
       "Afrique du Sud                                          2533.0   \n",
       "Albanie                                                 2203.0   \n",
       "Algérie                                                 2915.0   \n",
       "Allemagne                                               2461.0   \n",
       "\n",
       "                Disponibilité alimentaire en quantité (kg/personne/an)  \\\n",
       "Zone                                                                     \n",
       "Afghanistan                                                271.49        \n",
       "Afrique du Sud                                             425.17        \n",
       "Albanie                                                    706.49        \n",
       "Algérie                                                    632.35        \n",
       "Allemagne                                                  568.82        \n",
       "\n",
       "                Disponibilité de protéines en quantité (g/personne/jour)  \n",
       "Zone                                                                      \n",
       "Afghanistan                                                 46.05         \n",
       "Afrique du Sud                                              48.94         \n",
       "Albanie                                                     51.96         \n",
       "Algérie                                                     66.94         \n",
       "Allemagne                                                   39.90         "
      ]
     },
     "execution_count": 31,
     "metadata": {},
     "output_type": "execute_result"
    }
   ],
   "source": [
    "# Regroupement des données par 'Zone'\n",
    "dispoAlimentaireA= dispoAlimentaireA.groupby('Zone').sum()\n",
    "\n",
    "dispoAlimentaireA.head()"
   ]
  },
  {
   "cell_type": "code",
   "execution_count": 32,
   "id": "946f2345",
   "metadata": {
    "scrolled": false
   },
   "outputs": [
    {
     "data": {
      "text/html": [
       "<div>\n",
       "<style scoped>\n",
       "    .dataframe tbody tr th:only-of-type {\n",
       "        vertical-align: middle;\n",
       "    }\n",
       "\n",
       "    .dataframe tbody tr th {\n",
       "        vertical-align: top;\n",
       "    }\n",
       "\n",
       "    .dataframe thead th {\n",
       "        text-align: right;\n",
       "    }\n",
       "</style>\n",
       "<table border=\"1\" class=\"dataframe\">\n",
       "  <thead>\n",
       "    <tr style=\"text-align: right;\">\n",
       "      <th></th>\n",
       "      <th>Zone</th>\n",
       "      <th>Disponibilité alimentaire (Kcal/personne/jour)</th>\n",
       "      <th>Disponibilité alimentaire en quantité (kg/personne/an)</th>\n",
       "      <th>Disponibilité de protéines en quantité (g/personne/jour)</th>\n",
       "      <th>Année</th>\n",
       "      <th>Valeur</th>\n",
       "    </tr>\n",
       "  </thead>\n",
       "  <tbody>\n",
       "    <tr>\n",
       "      <th>0</th>\n",
       "      <td>Afghanistan</td>\n",
       "      <td>1871.0</td>\n",
       "      <td>271.49</td>\n",
       "      <td>46.05</td>\n",
       "      <td>2017</td>\n",
       "      <td>36296113.0</td>\n",
       "    </tr>\n",
       "    <tr>\n",
       "      <th>1</th>\n",
       "      <td>Afrique du Sud</td>\n",
       "      <td>2533.0</td>\n",
       "      <td>425.17</td>\n",
       "      <td>48.94</td>\n",
       "      <td>2017</td>\n",
       "      <td>57009756.0</td>\n",
       "    </tr>\n",
       "    <tr>\n",
       "      <th>2</th>\n",
       "      <td>Albanie</td>\n",
       "      <td>2203.0</td>\n",
       "      <td>706.49</td>\n",
       "      <td>51.96</td>\n",
       "      <td>2017</td>\n",
       "      <td>2884169.0</td>\n",
       "    </tr>\n",
       "    <tr>\n",
       "      <th>3</th>\n",
       "      <td>Algérie</td>\n",
       "      <td>2915.0</td>\n",
       "      <td>632.35</td>\n",
       "      <td>66.94</td>\n",
       "      <td>2017</td>\n",
       "      <td>41389189.0</td>\n",
       "    </tr>\n",
       "    <tr>\n",
       "      <th>4</th>\n",
       "      <td>Allemagne</td>\n",
       "      <td>2461.0</td>\n",
       "      <td>568.82</td>\n",
       "      <td>39.90</td>\n",
       "      <td>2017</td>\n",
       "      <td>82658409.0</td>\n",
       "    </tr>\n",
       "  </tbody>\n",
       "</table>\n",
       "</div>"
      ],
      "text/plain": [
       "             Zone  Disponibilité alimentaire (Kcal/personne/jour)  \\\n",
       "0     Afghanistan                                          1871.0   \n",
       "1  Afrique du Sud                                          2533.0   \n",
       "2         Albanie                                          2203.0   \n",
       "3         Algérie                                          2915.0   \n",
       "4       Allemagne                                          2461.0   \n",
       "\n",
       "   Disponibilité alimentaire en quantité (kg/personne/an)  \\\n",
       "0                                             271.49        \n",
       "1                                             425.17        \n",
       "2                                             706.49        \n",
       "3                                             632.35        \n",
       "4                                             568.82        \n",
       "\n",
       "   Disponibilité de protéines en quantité (g/personne/jour)  Année      Valeur  \n",
       "0                                              46.05          2017  36296113.0  \n",
       "1                                              48.94          2017  57009756.0  \n",
       "2                                              51.96          2017   2884169.0  \n",
       "3                                              66.94          2017  41389189.0  \n",
       "4                                              39.90          2017  82658409.0  "
      ]
     },
     "execution_count": 32,
     "metadata": {},
     "output_type": "execute_result"
    }
   ],
   "source": [
    "#Jointure sur la colonne Zone\n",
    "dispoAlimentaireA = pd.merge(dispoAlimentaireA,population, on= 'Zone')\n",
    "dispoAlimentaireA.head()"
   ]
  },
  {
   "cell_type": "code",
   "execution_count": 33,
   "id": "ac6ceda6",
   "metadata": {},
   "outputs": [
    {
     "name": "stdout",
     "output_type": "stream",
     "text": [
      "Le nombre de personnes pouvant être nourries avec la disponibilité alimentaire végétale totale est de : 6 904 305 685.0 personnes\n"
     ]
    }
   ],
   "source": [
    "# Calcul de la disponibilité alimentaire \n",
    "totalDispoVegKcal=((((dispoAlimentaireA['Valeur'])*dispoAlimentaireA['Disponibilité alimentaire (Kcal/personne/jour)'] ).sum())/2500).round()\n",
    "print(\"Le nombre de personnes pouvant être nourries avec la disponibilité alimentaire végétale totale est de : {:,} personnes\".format(totalDispoVegKcal).replace(',', ' '))"
   ]
  },
  {
   "cell_type": "code",
   "execution_count": 34,
   "id": "3cc3297d",
   "metadata": {},
   "outputs": [
    {
     "name": "stdout",
     "output_type": "stream",
     "text": [
      "La population mondiale en 2017 est de 7 548 134 111.0 humains. \n"
     ]
    }
   ],
   "source": [
    "\n",
    "# Calcul de la population totale\n",
    "totalPopulation = (population['Valeur']).sum().round()\n",
    "\n",
    "print(\"La population mondiale en 2017 est de {:,} humains. \".format(totalPopulation).replace(',', ' '))\n"
   ]
  },
  {
   "cell_type": "code",
   "execution_count": 35,
   "id": "39b517f5",
   "metadata": {},
   "outputs": [
    {
     "name": "stdout",
     "output_type": "stream",
     "text": [
      "La proportion de personnes pouvant être nourries avec la disponibilité alimentaire végétale (Kcal) totale est de : 91.47 %\n"
     ]
    }
   ],
   "source": [
    "\n",
    "# Calcul de la proportion de disponibilité végétale par rapport à la population mondiale \n",
    "proportion = ((totalDispoVegKcal/totalPopulation)*100)\n",
    "\n",
    "print(\"La proportion de personnes pouvant être nourries avec la disponibilité alimentaire végétale (Kcal) totale est de : {:,.2f} %\".format(proportion).replace(',', ' '))"
   ]
  },
  {
   "cell_type": "code",
   "execution_count": 36,
   "id": "59cb2f77",
   "metadata": {},
   "outputs": [],
   "source": [
    "#La proportion de personnes pouvant être nourries avec la disponibilité alimentaire totale est de 110.86 % et celle\n",
    "#avec la disponibilité végétale est de 91.47% , cad qu'il y ' a seulement 19.39 % \n",
    "#de disponibilités alimentaires qui ne sont pas végétales"
   ]
  },
  {
   "cell_type": "markdown",
   "id": "caa51762",
   "metadata": {},
   "source": [
    "# L’utilisation de la disponibilité intérieure, en particulier la part qui est attribuée à l’alimentation animale, celle qui est perdue et celle qui est concrètement utilisée pour l'alimentation humaine."
   ]
  },
  {
   "cell_type": "code",
   "execution_count": 37,
   "id": "840cccdc",
   "metadata": {},
   "outputs": [],
   "source": [
    "# Garder seulement les colonnes qui me seront utiles\n",
    "dispoAlimentaireB = dispoAlimentaire[['Zone','Aliments pour animaux','Autres Utilisations','Disponibilité intérieure','Exportations - Quantité','Importations - Quantité','Nourriture','Pertes','Production','Semences','Traitement','Variation de stock']]"
   ]
  },
  {
   "cell_type": "code",
   "execution_count": 38,
   "id": "22efc6bb",
   "metadata": {},
   "outputs": [
    {
     "data": {
      "text/html": [
       "<div>\n",
       "<style scoped>\n",
       "    .dataframe tbody tr th:only-of-type {\n",
       "        vertical-align: middle;\n",
       "    }\n",
       "\n",
       "    .dataframe tbody tr th {\n",
       "        vertical-align: top;\n",
       "    }\n",
       "\n",
       "    .dataframe thead th {\n",
       "        text-align: right;\n",
       "    }\n",
       "</style>\n",
       "<table border=\"1\" class=\"dataframe\">\n",
       "  <thead>\n",
       "    <tr style=\"text-align: right;\">\n",
       "      <th></th>\n",
       "      <th>Aliments pour animaux</th>\n",
       "      <th>Autres Utilisations</th>\n",
       "      <th>Disponibilité intérieure</th>\n",
       "      <th>Exportations - Quantité</th>\n",
       "      <th>Importations - Quantité</th>\n",
       "      <th>Nourriture</th>\n",
       "      <th>Pertes</th>\n",
       "      <th>Production</th>\n",
       "      <th>Semences</th>\n",
       "      <th>Traitement</th>\n",
       "      <th>Variation de stock</th>\n",
       "    </tr>\n",
       "  </thead>\n",
       "  <tbody>\n",
       "    <tr>\n",
       "      <th>0</th>\n",
       "      <td>768000.0</td>\n",
       "      <td>415000.0</td>\n",
       "      <td>13515000.0</td>\n",
       "      <td>278000.0</td>\n",
       "      <td>2988000.0</td>\n",
       "      <td>10735000.0</td>\n",
       "      <td>1135000.0</td>\n",
       "      <td>11171000.0</td>\n",
       "      <td>395000.0</td>\n",
       "      <td>63000.0</td>\n",
       "      <td>-368000.0</td>\n",
       "    </tr>\n",
       "    <tr>\n",
       "      <th>1</th>\n",
       "      <td>5309000.0</td>\n",
       "      <td>876000.0</td>\n",
       "      <td>61256000.0</td>\n",
       "      <td>11674000.0</td>\n",
       "      <td>7517000.0</td>\n",
       "      <td>29812000.0</td>\n",
       "      <td>2193000.0</td>\n",
       "      <td>63263000.0</td>\n",
       "      <td>253000.0</td>\n",
       "      <td>22819000.0</td>\n",
       "      <td>2153000.0</td>\n",
       "    </tr>\n",
       "    <tr>\n",
       "      <th>2</th>\n",
       "      <td>660000.0</td>\n",
       "      <td>174000.0</td>\n",
       "      <td>4758000.0</td>\n",
       "      <td>94000.0</td>\n",
       "      <td>933000.0</td>\n",
       "      <td>3476000.0</td>\n",
       "      <td>276000.0</td>\n",
       "      <td>3964000.0</td>\n",
       "      <td>55000.0</td>\n",
       "      <td>113000.0</td>\n",
       "      <td>-45000.0</td>\n",
       "    </tr>\n",
       "    <tr>\n",
       "      <th>3</th>\n",
       "      <td>4352000.0</td>\n",
       "      <td>1707000.0</td>\n",
       "      <td>42630000.0</td>\n",
       "      <td>655000.0</td>\n",
       "      <td>17403000.0</td>\n",
       "      <td>31729000.0</td>\n",
       "      <td>3753000.0</td>\n",
       "      <td>26359000.0</td>\n",
       "      <td>449000.0</td>\n",
       "      <td>637000.0</td>\n",
       "      <td>-479000.0</td>\n",
       "    </tr>\n",
       "    <tr>\n",
       "      <th>4</th>\n",
       "      <td>30209000.0</td>\n",
       "      <td>7711000.0</td>\n",
       "      <td>162275000.0</td>\n",
       "      <td>57431000.0</td>\n",
       "      <td>65353000.0</td>\n",
       "      <td>79238000.0</td>\n",
       "      <td>3781000.0</td>\n",
       "      <td>154547000.0</td>\n",
       "      <td>1551000.0</td>\n",
       "      <td>39842000.0</td>\n",
       "      <td>-192000.0</td>\n",
       "    </tr>\n",
       "  </tbody>\n",
       "</table>\n",
       "</div>"
      ],
      "text/plain": [
       "   Aliments pour animaux  Autres Utilisations  Disponibilité intérieure  \\\n",
       "0               768000.0             415000.0                13515000.0   \n",
       "1              5309000.0             876000.0                61256000.0   \n",
       "2               660000.0             174000.0                 4758000.0   \n",
       "3              4352000.0            1707000.0                42630000.0   \n",
       "4             30209000.0            7711000.0               162275000.0   \n",
       "\n",
       "   Exportations - Quantité  Importations - Quantité  Nourriture     Pertes  \\\n",
       "0                 278000.0                2988000.0  10735000.0  1135000.0   \n",
       "1               11674000.0                7517000.0  29812000.0  2193000.0   \n",
       "2                  94000.0                 933000.0   3476000.0   276000.0   \n",
       "3                 655000.0               17403000.0  31729000.0  3753000.0   \n",
       "4               57431000.0               65353000.0  79238000.0  3781000.0   \n",
       "\n",
       "    Production   Semences  Traitement  Variation de stock  \n",
       "0   11171000.0   395000.0     63000.0           -368000.0  \n",
       "1   63263000.0   253000.0  22819000.0           2153000.0  \n",
       "2    3964000.0    55000.0    113000.0            -45000.0  \n",
       "3   26359000.0   449000.0    637000.0           -479000.0  \n",
       "4  154547000.0  1551000.0  39842000.0           -192000.0  "
      ]
     },
     "execution_count": 38,
     "metadata": {},
     "output_type": "execute_result"
    }
   ],
   "source": [
    "# Regroupement de mes données par rapport à la colonne Zone et somme de la dispoAlimentaire\n",
    "dispoAlimentaireB = dispoAlimentaireB.groupby('Zone').sum().reset_index(drop=True)\n",
    "dispoAlimentaireB.head()"
   ]
  },
  {
   "cell_type": "code",
   "execution_count": 39,
   "id": "5f4037be",
   "metadata": {},
   "outputs": [
    {
     "name": "stdout",
     "output_type": "stream",
     "text": [
      "La proportion pour l'alimentation animale est de : 13.24 %\n"
     ]
    }
   ],
   "source": [
    "# Calcul de la proportion de disponibilité alimentaire pour les animaux\n",
    "proportionAlimAnimaux = dispoAlimentaireB['Aliments pour animaux'].sum()/dispoAlimentaireB['Disponibilité intérieure'].sum()*100\n",
    "print(\"La proportion pour l'alimentation animale est de : {:,.2f} %\".format(proportionAlimAnimaux).replace(',', ' '))"
   ]
  },
  {
   "cell_type": "code",
   "execution_count": 40,
   "id": "a1475098",
   "metadata": {},
   "outputs": [
    {
     "name": "stdout",
     "output_type": "stream",
     "text": [
      "La proportion des pertes est de : 4.61 %\n"
     ]
    }
   ],
   "source": [
    "# Calcul de la proportion de disponibilité alimentaire perdue\n",
    "proportionPertes = dispoAlimentaireB['Pertes'].sum()/dispoAlimentaireB['Disponibilité intérieure'].sum()*100\n",
    "print(\"La proportion des pertes est de : {:,.2f} %\".format(proportionPertes).replace(',', ' '))"
   ]
  },
  {
   "cell_type": "code",
   "execution_count": 41,
   "id": "603c9315",
   "metadata": {},
   "outputs": [
    {
     "name": "stdout",
     "output_type": "stream",
     "text": [
      "La proportion pour l'alimentation humaine est de : 49.51 %\n"
     ]
    }
   ],
   "source": [
    "# Calcul de la proportion de disponibilité alimentaire pour l'alimentation humaine\n",
    "proportionAlimHumains = dispoAlimentaireB['Nourriture'].sum()/dispoAlimentaireB['Disponibilité intérieure']\\\n",
    ".sum()*100\n",
    "print(\"La proportion pour l'alimentation humaine est de : {:,.2f} %\".format(proportionAlimHumains).replace(',', ' '))"
   ]
  },
  {
   "cell_type": "code",
   "execution_count": 42,
   "id": "119a43b5",
   "metadata": {},
   "outputs": [
    {
     "name": "stdout",
     "output_type": "stream",
     "text": [
      "La proportion pour tout autre est de : 8.78 %\n"
     ]
    }
   ],
   "source": [
    "# Calcul de la proportion de disponibilité alimentaire pour tout autres utilisations\n",
    "proportionAutres = dispoAlimentaireB['Autres Utilisations'].sum()/dispoAlimentaireB['Disponibilité intérieure']\\\n",
    ".sum()*100\n",
    "print(\"La proportion pour tout autre est de : {:,.2f} %\".format(proportionAutres).replace(',', ' '))"
   ]
  },
  {
   "cell_type": "code",
   "execution_count": 43,
   "id": "bdce749f",
   "metadata": {},
   "outputs": [
    {
     "name": "stdout",
     "output_type": "stream",
     "text": [
      "La proportion pour tout autre est de : 22.38 %\n"
     ]
    }
   ],
   "source": [
    "# Calcul de la proportion de disponibilité alimentaire pour le traitement\n",
    "proportionAutreb = dispoAlimentaireB['Traitement'].sum()/dispoAlimentaireB['Disponibilité intérieure']\\\n",
    ".sum()*100\n",
    "print(\"La proportion pour tout autre est de : {:,.2f} %\".format(proportionAutreb).replace(',', ' '))"
   ]
  },
  {
   "cell_type": "code",
   "execution_count": 44,
   "id": "51437562",
   "metadata": {},
   "outputs": [
    {
     "name": "stdout",
     "output_type": "stream",
     "text": [
      "La proportion pour tout autre est de : 1.57 %\n"
     ]
    }
   ],
   "source": [
    "# Calcul de la proportion de disponibilité alimentaire pour les semences\n",
    "proportionAutrec = dispoAlimentaireB['Semences'].sum()/dispoAlimentaireB['Disponibilité intérieure']\\\n",
    ".sum()*100\n",
    "print(\"La proportion pour tout autre est de : {:,.2f} %\".format(proportionAutrec).replace(',', ' '))"
   ]
  },
  {
   "cell_type": "code",
   "execution_count": 45,
   "id": "417de107",
   "metadata": {},
   "outputs": [
    {
     "name": "stdout",
     "output_type": "stream",
     "text": [
      "La proportion pour tout autre est de : 32.74 %\n"
     ]
    }
   ],
   "source": [
    "# Calcul de la proportion de disponibilité alimentaire pour le total des autres\n",
    "Autres=proportionAutres+proportionAutreb+proportionAutrec\n",
    "print(\"La proportion pour tout autre est de : {:,.2f} %\".format(Autres).replace(',', ' '))"
   ]
  },
  {
   "cell_type": "code",
   "execution_count": 46,
   "id": "d560f577",
   "metadata": {},
   "outputs": [
    {
     "data": {
      "text/plain": [
       "(0.0, 100.0)"
      ]
     },
     "execution_count": 46,
     "metadata": {},
     "output_type": "execute_result"
    },
    {
     "data": {
      "image/png": "[encoded data removed]",
      "text/plain": [
       "<Figure size 432x288 with 1 Axes>"
      ]
     },
     "metadata": {
      "needs_background": "light"
     },
     "output_type": "display_data"
    }
   ],
   "source": [
    "#Enregistre les valeurs précédentes dans des listes pour le graphique\n",
    "x_axis = [\"Aliments_pour_animaux\", \"Pertes\", \"Nourriture\",\"Autres\"]\n",
    "y_axis = [proportionAlimAnimaux, proportionPertes, proportionAlimHumains ,Autres]\n",
    "\n",
    "#Création du graphique\n",
    "plt.ylabel(\"Pourcentage d'utilisation\")\n",
    "plt.title('Utilisation de la disponibilité intérieure')\n",
    "\n",
    "g=sb.barplot(x = x_axis, y = y_axis)\n",
    "\n",
    "#Affiche les valeurs sur le graphique\n",
    "for p in g.patches:\n",
    "    g.annotate(\"%.2f\" % p.get_height(), (p.get_x() + p.get_width() / 2., p.get_height()),\n",
    "                ha='center', va='center', fontsize=14, color='black', xytext=(0, 20),\n",
    "                textcoords='offset points')\n",
    "#Règle la taille du graphique\n",
    "g.set_ylim(0,100)\n"
   ]
  },
  {
   "cell_type": "markdown",
   "id": "b131a13f",
   "metadata": {},
   "source": [
    "# les pays pour lesquels la proportion de personnes sous-alimentées est la plus forte en 2017"
   ]
  },
  {
   "cell_type": "code",
   "execution_count": 47,
   "id": "027b1b8b",
   "metadata": {},
   "outputs": [
    {
     "data": {
      "text/html": [
       "<div>\n",
       "<style scoped>\n",
       "    .dataframe tbody tr th:only-of-type {\n",
       "        vertical-align: middle;\n",
       "    }\n",
       "\n",
       "    .dataframe tbody tr th {\n",
       "        vertical-align: top;\n",
       "    }\n",
       "\n",
       "    .dataframe thead th {\n",
       "        text-align: right;\n",
       "    }\n",
       "</style>\n",
       "<table border=\"1\" class=\"dataframe\">\n",
       "  <thead>\n",
       "    <tr style=\"text-align: right;\">\n",
       "      <th></th>\n",
       "      <th>Personne sous-nutrition</th>\n",
       "      <th>Zone</th>\n",
       "      <th>Population</th>\n",
       "    </tr>\n",
       "  </thead>\n",
       "  <tbody>\n",
       "    <tr>\n",
       "      <th>0</th>\n",
       "      <td>10500000.0</td>\n",
       "      <td>Afghanistan</td>\n",
       "      <td>36296113.0</td>\n",
       "    </tr>\n",
       "    <tr>\n",
       "      <th>1</th>\n",
       "      <td>3100000.0</td>\n",
       "      <td>Afrique du Sud</td>\n",
       "      <td>57009756.0</td>\n",
       "    </tr>\n",
       "    <tr>\n",
       "      <th>2</th>\n",
       "      <td>100000.0</td>\n",
       "      <td>Albanie</td>\n",
       "      <td>2884169.0</td>\n",
       "    </tr>\n",
       "    <tr>\n",
       "      <th>3</th>\n",
       "      <td>1300000.0</td>\n",
       "      <td>Algérie</td>\n",
       "      <td>41389189.0</td>\n",
       "    </tr>\n",
       "    <tr>\n",
       "      <th>4</th>\n",
       "      <td>0.0</td>\n",
       "      <td>Allemagne</td>\n",
       "      <td>82658409.0</td>\n",
       "    </tr>\n",
       "  </tbody>\n",
       "</table>\n",
       "</div>"
      ],
      "text/plain": [
       "   Personne sous-nutrition            Zone  Population\n",
       "0               10500000.0     Afghanistan  36296113.0\n",
       "1                3100000.0  Afrique du Sud  57009756.0\n",
       "2                 100000.0         Albanie   2884169.0\n",
       "3                1300000.0         Algérie  41389189.0\n",
       "4                      0.0       Allemagne  82658409.0"
      ]
     },
     "execution_count": 47,
     "metadata": {},
     "output_type": "execute_result"
    }
   ],
   "source": [
    "# Changement de type de la colonne Valeur de object à float64\n",
    "sousNutrition['Personne sous-nutrition'] =sousNutrition['Personne sous-nutrition'].apply(pd.to_numeric)\n",
    "sousNutrition.head()"
   ]
  },
  {
   "cell_type": "code",
   "execution_count": 48,
   "id": "b583d4e8",
   "metadata": {},
   "outputs": [],
   "source": [
    "# Création d'une nouvelle colonne proportion\n",
    "sousNutrition['Proportion'] = sousNutrition['Personne sous-nutrition']/sousNutrition['Population']*100"
   ]
  },
  {
   "cell_type": "code",
   "execution_count": 49,
   "id": "3e352ebb",
   "metadata": {},
   "outputs": [],
   "source": [
    "# Je tri mes données par rapport à ma colonne 'proportion' et je choisi l'affichage par ordre décroissant\n",
    "sousNutrition = sousNutrition.sort_values(by = 'Proportion', ascending = False) "
   ]
  },
  {
   "cell_type": "code",
   "execution_count": 50,
   "id": "97771b1f",
   "metadata": {},
   "outputs": [
    {
     "data": {
      "text/html": [
       "<div>\n",
       "<style scoped>\n",
       "    .dataframe tbody tr th:only-of-type {\n",
       "        vertical-align: middle;\n",
       "    }\n",
       "\n",
       "    .dataframe tbody tr th {\n",
       "        vertical-align: top;\n",
       "    }\n",
       "\n",
       "    .dataframe thead th {\n",
       "        text-align: right;\n",
       "    }\n",
       "</style>\n",
       "<table border=\"1\" class=\"dataframe\">\n",
       "  <thead>\n",
       "    <tr style=\"text-align: right;\">\n",
       "      <th></th>\n",
       "      <th>Personne sous-nutrition</th>\n",
       "      <th>Zone</th>\n",
       "      <th>Population</th>\n",
       "      <th>Proportion</th>\n",
       "    </tr>\n",
       "  </thead>\n",
       "  <tbody>\n",
       "    <tr>\n",
       "      <th>78</th>\n",
       "      <td>5300000.0</td>\n",
       "      <td>Haïti</td>\n",
       "      <td>10982366.0</td>\n",
       "      <td>48.259182</td>\n",
       "    </tr>\n",
       "    <tr>\n",
       "      <th>157</th>\n",
       "      <td>12000000.0</td>\n",
       "      <td>République populaire démocratique de Corée</td>\n",
       "      <td>25429825.0</td>\n",
       "      <td>47.188685</td>\n",
       "    </tr>\n",
       "    <tr>\n",
       "      <th>108</th>\n",
       "      <td>10500000.0</td>\n",
       "      <td>Madagascar</td>\n",
       "      <td>25570512.0</td>\n",
       "      <td>41.062924</td>\n",
       "    </tr>\n",
       "    <tr>\n",
       "      <th>103</th>\n",
       "      <td>1800000.0</td>\n",
       "      <td>Libéria</td>\n",
       "      <td>4702226.0</td>\n",
       "      <td>38.279742</td>\n",
       "    </tr>\n",
       "    <tr>\n",
       "      <th>100</th>\n",
       "      <td>800000.0</td>\n",
       "      <td>Lesotho</td>\n",
       "      <td>2091534.0</td>\n",
       "      <td>38.249438</td>\n",
       "    </tr>\n",
       "    <tr>\n",
       "      <th>183</th>\n",
       "      <td>5700000.0</td>\n",
       "      <td>Tchad</td>\n",
       "      <td>15016753.0</td>\n",
       "      <td>37.957606</td>\n",
       "    </tr>\n",
       "    <tr>\n",
       "      <th>161</th>\n",
       "      <td>4200000.0</td>\n",
       "      <td>Rwanda</td>\n",
       "      <td>11980961.0</td>\n",
       "      <td>35.055619</td>\n",
       "    </tr>\n",
       "    <tr>\n",
       "      <th>121</th>\n",
       "      <td>9400000.0</td>\n",
       "      <td>Mozambique</td>\n",
       "      <td>28649018.0</td>\n",
       "      <td>32.810898</td>\n",
       "    </tr>\n",
       "    <tr>\n",
       "      <th>186</th>\n",
       "      <td>400000.0</td>\n",
       "      <td>Timor-Leste</td>\n",
       "      <td>1243258.0</td>\n",
       "      <td>32.173531</td>\n",
       "    </tr>\n",
       "    <tr>\n",
       "      <th>0</th>\n",
       "      <td>10500000.0</td>\n",
       "      <td>Afghanistan</td>\n",
       "      <td>36296113.0</td>\n",
       "      <td>28.928718</td>\n",
       "    </tr>\n",
       "  </tbody>\n",
       "</table>\n",
       "</div>"
      ],
      "text/plain": [
       "     Personne sous-nutrition                                        Zone  \\\n",
       "78                 5300000.0                                       Haïti   \n",
       "157               12000000.0  République populaire démocratique de Corée   \n",
       "108               10500000.0                                  Madagascar   \n",
       "103                1800000.0                                     Libéria   \n",
       "100                 800000.0                                     Lesotho   \n",
       "183                5700000.0                                       Tchad   \n",
       "161                4200000.0                                      Rwanda   \n",
       "121                9400000.0                                  Mozambique   \n",
       "186                 400000.0                                 Timor-Leste   \n",
       "0                 10500000.0                                 Afghanistan   \n",
       "\n",
       "     Population  Proportion  \n",
       "78   10982366.0   48.259182  \n",
       "157  25429825.0   47.188685  \n",
       "108  25570512.0   41.062924  \n",
       "103   4702226.0   38.279742  \n",
       "100   2091534.0   38.249438  \n",
       "183  15016753.0   37.957606  \n",
       "161  11980961.0   35.055619  \n",
       "121  28649018.0   32.810898  \n",
       "186   1243258.0   32.173531  \n",
       "0    36296113.0   28.928718  "
      ]
     },
     "execution_count": 50,
     "metadata": {},
     "output_type": "execute_result"
    }
   ],
   "source": [
    "# Affichage des 10 premiers résultats\n",
    "sousNutrition.head(10)\n"
   ]
  },
  {
   "cell_type": "markdown",
   "id": "20f48b76",
   "metadata": {},
   "source": [
    "# les pays qui ont le plus bénéficié d’aide depuis 2013"
   ]
  },
  {
   "cell_type": "code",
   "execution_count": 51,
   "id": "a7695912",
   "metadata": {},
   "outputs": [],
   "source": [
    "# Ouverture du fichier\n",
    "aideAlimentaire = pd.read_csv(\"DAN-P4-FAO/aide_alimentaire.csv\")"
   ]
  },
  {
   "cell_type": "code",
   "execution_count": 52,
   "id": "f238d18d",
   "metadata": {},
   "outputs": [
    {
     "data": {
      "text/html": [
       "<div>\n",
       "<style scoped>\n",
       "    .dataframe tbody tr th:only-of-type {\n",
       "        vertical-align: middle;\n",
       "    }\n",
       "\n",
       "    .dataframe tbody tr th {\n",
       "        vertical-align: top;\n",
       "    }\n",
       "\n",
       "    .dataframe thead th {\n",
       "        text-align: right;\n",
       "    }\n",
       "</style>\n",
       "<table border=\"1\" class=\"dataframe\">\n",
       "  <thead>\n",
       "    <tr style=\"text-align: right;\">\n",
       "      <th></th>\n",
       "      <th>Pays bénéficiaire</th>\n",
       "      <th>Année</th>\n",
       "      <th>Produit</th>\n",
       "      <th>Valeur</th>\n",
       "    </tr>\n",
       "  </thead>\n",
       "  <tbody>\n",
       "    <tr>\n",
       "      <th>0</th>\n",
       "      <td>Afghanistan</td>\n",
       "      <td>2013</td>\n",
       "      <td>Autres non-céréales</td>\n",
       "      <td>682</td>\n",
       "    </tr>\n",
       "    <tr>\n",
       "      <th>1</th>\n",
       "      <td>Afghanistan</td>\n",
       "      <td>2014</td>\n",
       "      <td>Autres non-céréales</td>\n",
       "      <td>335</td>\n",
       "    </tr>\n",
       "    <tr>\n",
       "      <th>2</th>\n",
       "      <td>Afghanistan</td>\n",
       "      <td>2013</td>\n",
       "      <td>Blé et Farin</td>\n",
       "      <td>39224</td>\n",
       "    </tr>\n",
       "    <tr>\n",
       "      <th>3</th>\n",
       "      <td>Afghanistan</td>\n",
       "      <td>2014</td>\n",
       "      <td>Blé et Farin</td>\n",
       "      <td>15160</td>\n",
       "    </tr>\n",
       "    <tr>\n",
       "      <th>4</th>\n",
       "      <td>Afghanistan</td>\n",
       "      <td>2013</td>\n",
       "      <td>Céréales</td>\n",
       "      <td>40504</td>\n",
       "    </tr>\n",
       "  </tbody>\n",
       "</table>\n",
       "</div>"
      ],
      "text/plain": [
       "  Pays bénéficiaire  Année              Produit  Valeur\n",
       "0       Afghanistan   2013  Autres non-céréales     682\n",
       "1       Afghanistan   2014  Autres non-céréales     335\n",
       "2       Afghanistan   2013         Blé et Farin   39224\n",
       "3       Afghanistan   2014         Blé et Farin   15160\n",
       "4       Afghanistan   2013             Céréales   40504"
      ]
     },
     "execution_count": 52,
     "metadata": {},
     "output_type": "execute_result"
    }
   ],
   "source": [
    "# Aperçu \n",
    "aideAlimentaire.head()"
   ]
  },
  {
   "cell_type": "code",
   "execution_count": 53,
   "id": "809ec7a6",
   "metadata": {},
   "outputs": [],
   "source": [
    "# Filtre sur Pays bénéficiaire et somme des aides\n",
    "aideAlimentaire = aideAlimentaire.groupby('Pays bénéficiaire').sum()"
   ]
  },
  {
   "cell_type": "code",
   "execution_count": 54,
   "id": "2eaf190d",
   "metadata": {},
   "outputs": [],
   "source": [
    "# Création de la colonne 'proportion'\n",
    "aideAlimentaire['Proportion (%)']= (aideAlimentaire['Valeur']/aideAlimentaire['Valeur'].sum()*100)"
   ]
  },
  {
   "cell_type": "code",
   "execution_count": 55,
   "id": "628ce13a",
   "metadata": {},
   "outputs": [],
   "source": [
    "# Tri des données en fonction de proportion (%) et affichage par ordre décroissant\n",
    "aideAlimentaire = aideAlimentaire.sort_values(by = 'Proportion (%)', ascending = False) "
   ]
  },
  {
   "cell_type": "code",
   "execution_count": 56,
   "id": "fb7aa89c",
   "metadata": {},
   "outputs": [],
   "source": [
    "# Suppression de la colonne 'Année'\n",
    "del aideAlimentaire['Année']"
   ]
  },
  {
   "cell_type": "code",
   "execution_count": 57,
   "id": "bdd2f6fd",
   "metadata": {},
   "outputs": [
    {
     "data": {
      "text/html": [
       "<div>\n",
       "<style scoped>\n",
       "    .dataframe tbody tr th:only-of-type {\n",
       "        vertical-align: middle;\n",
       "    }\n",
       "\n",
       "    .dataframe tbody tr th {\n",
       "        vertical-align: top;\n",
       "    }\n",
       "\n",
       "    .dataframe thead th {\n",
       "        text-align: right;\n",
       "    }\n",
       "</style>\n",
       "<table border=\"1\" class=\"dataframe\">\n",
       "  <thead>\n",
       "    <tr style=\"text-align: right;\">\n",
       "      <th></th>\n",
       "      <th>Valeur</th>\n",
       "      <th>Proportion (%)</th>\n",
       "    </tr>\n",
       "    <tr>\n",
       "      <th>Pays bénéficiaire</th>\n",
       "      <th></th>\n",
       "      <th></th>\n",
       "    </tr>\n",
       "  </thead>\n",
       "  <tbody>\n",
       "    <tr>\n",
       "      <th>République arabe syrienne</th>\n",
       "      <td>1858943</td>\n",
       "      <td>16.844506</td>\n",
       "    </tr>\n",
       "    <tr>\n",
       "      <th>Éthiopie</th>\n",
       "      <td>1381294</td>\n",
       "      <td>12.516368</td>\n",
       "    </tr>\n",
       "    <tr>\n",
       "      <th>Yémen</th>\n",
       "      <td>1206484</td>\n",
       "      <td>10.932356</td>\n",
       "    </tr>\n",
       "    <tr>\n",
       "      <th>Soudan du Sud</th>\n",
       "      <td>695248</td>\n",
       "      <td>6.299875</td>\n",
       "    </tr>\n",
       "    <tr>\n",
       "      <th>Soudan</th>\n",
       "      <td>669784</td>\n",
       "      <td>6.069137</td>\n",
       "    </tr>\n",
       "    <tr>\n",
       "      <th>Kenya</th>\n",
       "      <td>552836</td>\n",
       "      <td>5.009432</td>\n",
       "    </tr>\n",
       "    <tr>\n",
       "      <th>Bangladesh</th>\n",
       "      <td>348188</td>\n",
       "      <td>3.155048</td>\n",
       "    </tr>\n",
       "    <tr>\n",
       "      <th>Somalie</th>\n",
       "      <td>292678</td>\n",
       "      <td>2.652054</td>\n",
       "    </tr>\n",
       "    <tr>\n",
       "      <th>République démocratique du Congo</th>\n",
       "      <td>288502</td>\n",
       "      <td>2.614213</td>\n",
       "    </tr>\n",
       "    <tr>\n",
       "      <th>Niger</th>\n",
       "      <td>276344</td>\n",
       "      <td>2.504046</td>\n",
       "    </tr>\n",
       "  </tbody>\n",
       "</table>\n",
       "</div>"
      ],
      "text/plain": [
       "                                   Valeur  Proportion (%)\n",
       "Pays bénéficiaire                                        \n",
       "République arabe syrienne         1858943       16.844506\n",
       "Éthiopie                          1381294       12.516368\n",
       "Yémen                             1206484       10.932356\n",
       "Soudan du Sud                      695248        6.299875\n",
       "Soudan                             669784        6.069137\n",
       "Kenya                              552836        5.009432\n",
       "Bangladesh                         348188        3.155048\n",
       "Somalie                            292678        2.652054\n",
       "République démocratique du Congo   288502        2.614213\n",
       "Niger                              276344        2.504046"
      ]
     },
     "execution_count": 57,
     "metadata": {},
     "output_type": "execute_result"
    }
   ],
   "source": [
    "# Affichage des 10 premiers résultats\n",
    "aideAlimentaire.head(10)"
   ]
  },
  {
   "cell_type": "code",
   "execution_count": 58,
   "id": "aeccd621",
   "metadata": {},
   "outputs": [],
   "source": [
    "#On remarque que les pays ayant le plus bénéficié d'aide depuis 2013 comme la Somalie ou le Bangladesh \n",
    "#ne font pas partie du top 10 des pays avec la plus grande proportion de personnes sous alimenté en 2017 \n",
    "#on en déduit que les aides ont réduit cette sous-nutrition et ont réellement eu un impact en les faisant déscendre \n",
    "#dans le classement"
   ]
  },
  {
   "cell_type": "markdown",
   "id": "cb04a3e2",
   "metadata": {},
   "source": [
    "# les pays  ayant le plus/le moins de disponibilité/habitant"
   ]
  },
  {
   "cell_type": "code",
   "execution_count": 59,
   "id": "2e76f8d6",
   "metadata": {},
   "outputs": [],
   "source": [
    "# Ouverture du fichier\n",
    "dispoAlimentaire = pd.read_csv(\"DAN-P4-FAO/dispo_alimentaire.csv\")\n",
    "population = pd.read_csv(\"DAN-P4-FAO/population.csv\")"
   ]
  },
  {
   "cell_type": "code",
   "execution_count": 60,
   "id": "3241ecdb",
   "metadata": {},
   "outputs": [
    {
     "data": {
      "text/html": [
       "<div>\n",
       "<style scoped>\n",
       "    .dataframe tbody tr th:only-of-type {\n",
       "        vertical-align: middle;\n",
       "    }\n",
       "\n",
       "    .dataframe tbody tr th {\n",
       "        vertical-align: top;\n",
       "    }\n",
       "\n",
       "    .dataframe thead th {\n",
       "        text-align: right;\n",
       "    }\n",
       "</style>\n",
       "<table border=\"1\" class=\"dataframe\">\n",
       "  <thead>\n",
       "    <tr style=\"text-align: right;\">\n",
       "      <th></th>\n",
       "      <th>Zone</th>\n",
       "      <th>Produit</th>\n",
       "      <th>Origine</th>\n",
       "      <th>Aliments pour animaux</th>\n",
       "      <th>Autres Utilisations</th>\n",
       "      <th>Disponibilité alimentaire (Kcal/personne/jour)</th>\n",
       "      <th>Disponibilité alimentaire en quantité (kg/personne/an)</th>\n",
       "      <th>Disponibilité de matière grasse en quantité (g/personne/jour)</th>\n",
       "      <th>Disponibilité de protéines en quantité (g/personne/jour)</th>\n",
       "      <th>Disponibilité intérieure</th>\n",
       "      <th>Exportations - Quantité</th>\n",
       "      <th>Importations - Quantité</th>\n",
       "      <th>Nourriture</th>\n",
       "      <th>Pertes</th>\n",
       "      <th>Production</th>\n",
       "      <th>Semences</th>\n",
       "      <th>Traitement</th>\n",
       "      <th>Variation de stock</th>\n",
       "    </tr>\n",
       "  </thead>\n",
       "  <tbody>\n",
       "    <tr>\n",
       "      <th>0</th>\n",
       "      <td>Afghanistan</td>\n",
       "      <td>Abats Comestible</td>\n",
       "      <td>animale</td>\n",
       "      <td>NaN</td>\n",
       "      <td>NaN</td>\n",
       "      <td>5.0</td>\n",
       "      <td>1.72</td>\n",
       "      <td>0.20</td>\n",
       "      <td>0.77</td>\n",
       "      <td>53.0</td>\n",
       "      <td>NaN</td>\n",
       "      <td>NaN</td>\n",
       "      <td>53.0</td>\n",
       "      <td>NaN</td>\n",
       "      <td>53.0</td>\n",
       "      <td>NaN</td>\n",
       "      <td>NaN</td>\n",
       "      <td>NaN</td>\n",
       "    </tr>\n",
       "    <tr>\n",
       "      <th>1</th>\n",
       "      <td>Afghanistan</td>\n",
       "      <td>Agrumes, Autres</td>\n",
       "      <td>vegetale</td>\n",
       "      <td>NaN</td>\n",
       "      <td>NaN</td>\n",
       "      <td>1.0</td>\n",
       "      <td>1.29</td>\n",
       "      <td>0.01</td>\n",
       "      <td>0.02</td>\n",
       "      <td>41.0</td>\n",
       "      <td>2.0</td>\n",
       "      <td>40.0</td>\n",
       "      <td>39.0</td>\n",
       "      <td>2.0</td>\n",
       "      <td>3.0</td>\n",
       "      <td>NaN</td>\n",
       "      <td>NaN</td>\n",
       "      <td>NaN</td>\n",
       "    </tr>\n",
       "    <tr>\n",
       "      <th>2</th>\n",
       "      <td>Afghanistan</td>\n",
       "      <td>Aliments pour enfants</td>\n",
       "      <td>vegetale</td>\n",
       "      <td>NaN</td>\n",
       "      <td>NaN</td>\n",
       "      <td>1.0</td>\n",
       "      <td>0.06</td>\n",
       "      <td>0.01</td>\n",
       "      <td>0.03</td>\n",
       "      <td>2.0</td>\n",
       "      <td>NaN</td>\n",
       "      <td>2.0</td>\n",
       "      <td>2.0</td>\n",
       "      <td>NaN</td>\n",
       "      <td>NaN</td>\n",
       "      <td>NaN</td>\n",
       "      <td>NaN</td>\n",
       "      <td>NaN</td>\n",
       "    </tr>\n",
       "    <tr>\n",
       "      <th>3</th>\n",
       "      <td>Afghanistan</td>\n",
       "      <td>Ananas</td>\n",
       "      <td>vegetale</td>\n",
       "      <td>NaN</td>\n",
       "      <td>NaN</td>\n",
       "      <td>0.0</td>\n",
       "      <td>0.00</td>\n",
       "      <td>NaN</td>\n",
       "      <td>NaN</td>\n",
       "      <td>0.0</td>\n",
       "      <td>NaN</td>\n",
       "      <td>0.0</td>\n",
       "      <td>0.0</td>\n",
       "      <td>NaN</td>\n",
       "      <td>NaN</td>\n",
       "      <td>NaN</td>\n",
       "      <td>NaN</td>\n",
       "      <td>NaN</td>\n",
       "    </tr>\n",
       "    <tr>\n",
       "      <th>4</th>\n",
       "      <td>Afghanistan</td>\n",
       "      <td>Bananes</td>\n",
       "      <td>vegetale</td>\n",
       "      <td>NaN</td>\n",
       "      <td>NaN</td>\n",
       "      <td>4.0</td>\n",
       "      <td>2.70</td>\n",
       "      <td>0.02</td>\n",
       "      <td>0.05</td>\n",
       "      <td>82.0</td>\n",
       "      <td>NaN</td>\n",
       "      <td>82.0</td>\n",
       "      <td>82.0</td>\n",
       "      <td>NaN</td>\n",
       "      <td>NaN</td>\n",
       "      <td>NaN</td>\n",
       "      <td>NaN</td>\n",
       "      <td>NaN</td>\n",
       "    </tr>\n",
       "  </tbody>\n",
       "</table>\n",
       "</div>"
      ],
      "text/plain": [
       "          Zone                Produit   Origine  Aliments pour animaux  \\\n",
       "0  Afghanistan       Abats Comestible   animale                    NaN   \n",
       "1  Afghanistan        Agrumes, Autres  vegetale                    NaN   \n",
       "2  Afghanistan  Aliments pour enfants  vegetale                    NaN   \n",
       "3  Afghanistan                 Ananas  vegetale                    NaN   \n",
       "4  Afghanistan                Bananes  vegetale                    NaN   \n",
       "\n",
       "   Autres Utilisations  Disponibilité alimentaire (Kcal/personne/jour)  \\\n",
       "0                  NaN                                             5.0   \n",
       "1                  NaN                                             1.0   \n",
       "2                  NaN                                             1.0   \n",
       "3                  NaN                                             0.0   \n",
       "4                  NaN                                             4.0   \n",
       "\n",
       "   Disponibilité alimentaire en quantité (kg/personne/an)  \\\n",
       "0                                               1.72        \n",
       "1                                               1.29        \n",
       "2                                               0.06        \n",
       "3                                               0.00        \n",
       "4                                               2.70        \n",
       "\n",
       "   Disponibilité de matière grasse en quantité (g/personne/jour)  \\\n",
       "0                                               0.20               \n",
       "1                                               0.01               \n",
       "2                                               0.01               \n",
       "3                                                NaN               \n",
       "4                                               0.02               \n",
       "\n",
       "   Disponibilité de protéines en quantité (g/personne/jour)  \\\n",
       "0                                               0.77          \n",
       "1                                               0.02          \n",
       "2                                               0.03          \n",
       "3                                                NaN          \n",
       "4                                               0.05          \n",
       "\n",
       "   Disponibilité intérieure  Exportations - Quantité  Importations - Quantité  \\\n",
       "0                      53.0                      NaN                      NaN   \n",
       "1                      41.0                      2.0                     40.0   \n",
       "2                       2.0                      NaN                      2.0   \n",
       "3                       0.0                      NaN                      0.0   \n",
       "4                      82.0                      NaN                     82.0   \n",
       "\n",
       "   Nourriture  Pertes  Production  Semences  Traitement  Variation de stock  \n",
       "0        53.0     NaN        53.0       NaN         NaN                 NaN  \n",
       "1        39.0     2.0         3.0       NaN         NaN                 NaN  \n",
       "2         2.0     NaN         NaN       NaN         NaN                 NaN  \n",
       "3         0.0     NaN         NaN       NaN         NaN                 NaN  \n",
       "4        82.0     NaN         NaN       NaN         NaN                 NaN  "
      ]
     },
     "execution_count": 60,
     "metadata": {},
     "output_type": "execute_result"
    }
   ],
   "source": [
    "# Aperçu \n",
    "dispoAlimentaire.head()"
   ]
  },
  {
   "cell_type": "code",
   "execution_count": 61,
   "id": "2a469b79",
   "metadata": {},
   "outputs": [],
   "source": [
    "#Sélection des colonnes Zone et Disponibilité alimentaire\n",
    "dispo = dispoAlimentaire[['Zone','Disponibilité alimentaire (Kcal/personne/jour)']]"
   ]
  },
  {
   "cell_type": "code",
   "execution_count": 62,
   "id": "14759471",
   "metadata": {},
   "outputs": [],
   "source": [
    "#Sélection de la population en l'année 2017\n",
    "popu = population.loc[population['Année']==2017,:]"
   ]
  },
  {
   "cell_type": "code",
   "execution_count": 63,
   "id": "2e1d7137",
   "metadata": {},
   "outputs": [],
   "source": [
    "#Somme des disponibilitées alimentaires\n",
    "dispo = dispo.groupby('Zone').sum()"
   ]
  },
  {
   "cell_type": "code",
   "execution_count": 64,
   "id": "5c5449c4",
   "metadata": {},
   "outputs": [
    {
     "data": {
      "text/html": [
       "<div>\n",
       "<style scoped>\n",
       "    .dataframe tbody tr th:only-of-type {\n",
       "        vertical-align: middle;\n",
       "    }\n",
       "\n",
       "    .dataframe tbody tr th {\n",
       "        vertical-align: top;\n",
       "    }\n",
       "\n",
       "    .dataframe thead th {\n",
       "        text-align: right;\n",
       "    }\n",
       "</style>\n",
       "<table border=\"1\" class=\"dataframe\">\n",
       "  <thead>\n",
       "    <tr style=\"text-align: right;\">\n",
       "      <th></th>\n",
       "      <th>Disponibilité alimentaire (Kcal/personne/jour)</th>\n",
       "    </tr>\n",
       "    <tr>\n",
       "      <th>Zone</th>\n",
       "      <th></th>\n",
       "    </tr>\n",
       "  </thead>\n",
       "  <tbody>\n",
       "    <tr>\n",
       "      <th>Afghanistan</th>\n",
       "      <td>2087.0</td>\n",
       "    </tr>\n",
       "    <tr>\n",
       "      <th>Afrique du Sud</th>\n",
       "      <td>3020.0</td>\n",
       "    </tr>\n",
       "    <tr>\n",
       "      <th>Albanie</th>\n",
       "      <td>3188.0</td>\n",
       "    </tr>\n",
       "    <tr>\n",
       "      <th>Algérie</th>\n",
       "      <td>3293.0</td>\n",
       "    </tr>\n",
       "    <tr>\n",
       "      <th>Allemagne</th>\n",
       "      <td>3503.0</td>\n",
       "    </tr>\n",
       "  </tbody>\n",
       "</table>\n",
       "</div>"
      ],
      "text/plain": [
       "                Disponibilité alimentaire (Kcal/personne/jour)\n",
       "Zone                                                          \n",
       "Afghanistan                                             2087.0\n",
       "Afrique du Sud                                          3020.0\n",
       "Albanie                                                 3188.0\n",
       "Algérie                                                 3293.0\n",
       "Allemagne                                               3503.0"
      ]
     },
     "execution_count": 64,
     "metadata": {},
     "output_type": "execute_result"
    }
   ],
   "source": [
    "#Affichage\n",
    "dispo.head()"
   ]
  },
  {
   "cell_type": "code",
   "execution_count": 65,
   "id": "58fd8a79",
   "metadata": {},
   "outputs": [
    {
     "data": {
      "text/html": [
       "<div>\n",
       "<style scoped>\n",
       "    .dataframe tbody tr th:only-of-type {\n",
       "        vertical-align: middle;\n",
       "    }\n",
       "\n",
       "    .dataframe tbody tr th {\n",
       "        vertical-align: top;\n",
       "    }\n",
       "\n",
       "    .dataframe thead th {\n",
       "        text-align: right;\n",
       "    }\n",
       "</style>\n",
       "<table border=\"1\" class=\"dataframe\">\n",
       "  <thead>\n",
       "    <tr style=\"text-align: right;\">\n",
       "      <th></th>\n",
       "      <th>Zone</th>\n",
       "      <th>Année</th>\n",
       "      <th>Valeur</th>\n",
       "      <th>Disponibilité alimentaire (Kcal/personne/jour)</th>\n",
       "    </tr>\n",
       "  </thead>\n",
       "  <tbody>\n",
       "    <tr>\n",
       "      <th>0</th>\n",
       "      <td>Afghanistan</td>\n",
       "      <td>2017</td>\n",
       "      <td>36296.113</td>\n",
       "      <td>2087.0</td>\n",
       "    </tr>\n",
       "    <tr>\n",
       "      <th>1</th>\n",
       "      <td>Afrique du Sud</td>\n",
       "      <td>2017</td>\n",
       "      <td>57009.756</td>\n",
       "      <td>3020.0</td>\n",
       "    </tr>\n",
       "    <tr>\n",
       "      <th>2</th>\n",
       "      <td>Albanie</td>\n",
       "      <td>2017</td>\n",
       "      <td>2884.169</td>\n",
       "      <td>3188.0</td>\n",
       "    </tr>\n",
       "    <tr>\n",
       "      <th>3</th>\n",
       "      <td>Algérie</td>\n",
       "      <td>2017</td>\n",
       "      <td>41389.189</td>\n",
       "      <td>3293.0</td>\n",
       "    </tr>\n",
       "    <tr>\n",
       "      <th>4</th>\n",
       "      <td>Allemagne</td>\n",
       "      <td>2017</td>\n",
       "      <td>82658.409</td>\n",
       "      <td>3503.0</td>\n",
       "    </tr>\n",
       "    <tr>\n",
       "      <th>5</th>\n",
       "      <td>Angola</td>\n",
       "      <td>2017</td>\n",
       "      <td>29816.766</td>\n",
       "      <td>2474.0</td>\n",
       "    </tr>\n",
       "    <tr>\n",
       "      <th>6</th>\n",
       "      <td>Antigua-et-Barbuda</td>\n",
       "      <td>2017</td>\n",
       "      <td>95.426</td>\n",
       "      <td>2416.0</td>\n",
       "    </tr>\n",
       "    <tr>\n",
       "      <th>7</th>\n",
       "      <td>Arabie saoudite</td>\n",
       "      <td>2017</td>\n",
       "      <td>33101.179</td>\n",
       "      <td>3255.0</td>\n",
       "    </tr>\n",
       "    <tr>\n",
       "      <th>8</th>\n",
       "      <td>Argentine</td>\n",
       "      <td>2017</td>\n",
       "      <td>43937.140</td>\n",
       "      <td>3226.0</td>\n",
       "    </tr>\n",
       "    <tr>\n",
       "      <th>9</th>\n",
       "      <td>Arménie</td>\n",
       "      <td>2017</td>\n",
       "      <td>2944.791</td>\n",
       "      <td>2924.0</td>\n",
       "    </tr>\n",
       "    <tr>\n",
       "      <th>10</th>\n",
       "      <td>Australie</td>\n",
       "      <td>2017</td>\n",
       "      <td>24584.620</td>\n",
       "      <td>3278.0</td>\n",
       "    </tr>\n",
       "    <tr>\n",
       "      <th>11</th>\n",
       "      <td>Autriche</td>\n",
       "      <td>2017</td>\n",
       "      <td>8819.901</td>\n",
       "      <td>3770.0</td>\n",
       "    </tr>\n",
       "    <tr>\n",
       "      <th>12</th>\n",
       "      <td>Azerbaïdjan</td>\n",
       "      <td>2017</td>\n",
       "      <td>9845.320</td>\n",
       "      <td>3113.0</td>\n",
       "    </tr>\n",
       "    <tr>\n",
       "      <th>13</th>\n",
       "      <td>Bahamas</td>\n",
       "      <td>2017</td>\n",
       "      <td>381.755</td>\n",
       "      <td>2670.0</td>\n",
       "    </tr>\n",
       "    <tr>\n",
       "      <th>14</th>\n",
       "      <td>Bangladesh</td>\n",
       "      <td>2017</td>\n",
       "      <td>159685.424</td>\n",
       "      <td>2453.0</td>\n",
       "    </tr>\n",
       "  </tbody>\n",
       "</table>\n",
       "</div>"
      ],
      "text/plain": [
       "                  Zone  Année      Valeur  \\\n",
       "0          Afghanistan   2017   36296.113   \n",
       "1       Afrique du Sud   2017   57009.756   \n",
       "2              Albanie   2017    2884.169   \n",
       "3              Algérie   2017   41389.189   \n",
       "4            Allemagne   2017   82658.409   \n",
       "5               Angola   2017   29816.766   \n",
       "6   Antigua-et-Barbuda   2017      95.426   \n",
       "7      Arabie saoudite   2017   33101.179   \n",
       "8            Argentine   2017   43937.140   \n",
       "9              Arménie   2017    2944.791   \n",
       "10           Australie   2017   24584.620   \n",
       "11            Autriche   2017    8819.901   \n",
       "12         Azerbaïdjan   2017    9845.320   \n",
       "13             Bahamas   2017     381.755   \n",
       "14          Bangladesh   2017  159685.424   \n",
       "\n",
       "    Disponibilité alimentaire (Kcal/personne/jour)  \n",
       "0                                           2087.0  \n",
       "1                                           3020.0  \n",
       "2                                           3188.0  \n",
       "3                                           3293.0  \n",
       "4                                           3503.0  \n",
       "5                                           2474.0  \n",
       "6                                           2416.0  \n",
       "7                                           3255.0  \n",
       "8                                           3226.0  \n",
       "9                                           2924.0  \n",
       "10                                          3278.0  \n",
       "11                                          3770.0  \n",
       "12                                          3113.0  \n",
       "13                                          2670.0  \n",
       "14                                          2453.0  "
      ]
     },
     "execution_count": 65,
     "metadata": {},
     "output_type": "execute_result"
    }
   ],
   "source": [
    "#Jointure entre Population et Dispo alimentaire sur Zone\n",
    "dispo = pd.merge(popu,dispo, on='Zone')\n",
    "dispo.head(15)\n"
   ]
  },
  {
   "cell_type": "code",
   "execution_count": 66,
   "id": "5ec6450d",
   "metadata": {},
   "outputs": [],
   "source": [
    "# Création d'une dataframe qui affiche les pays avec le plus de disponibilité alimentaire\n",
    "paysDispoPlus = dispo.sort_values(by = ['Disponibilité alimentaire (Kcal/personne/jour)','Valeur'], ascending = False) "
   ]
  },
  {
   "cell_type": "code",
   "execution_count": 67,
   "id": "0ff89e90",
   "metadata": {},
   "outputs": [
    {
     "data": {
      "text/html": [
       "<div>\n",
       "<style scoped>\n",
       "    .dataframe tbody tr th:only-of-type {\n",
       "        vertical-align: middle;\n",
       "    }\n",
       "\n",
       "    .dataframe tbody tr th {\n",
       "        vertical-align: top;\n",
       "    }\n",
       "\n",
       "    .dataframe thead th {\n",
       "        text-align: right;\n",
       "    }\n",
       "</style>\n",
       "<table border=\"1\" class=\"dataframe\">\n",
       "  <thead>\n",
       "    <tr style=\"text-align: right;\">\n",
       "      <th></th>\n",
       "      <th>Zone</th>\n",
       "      <th>Année</th>\n",
       "      <th>Valeur</th>\n",
       "      <th>Disponibilité alimentaire (Kcal/personne/jour)</th>\n",
       "    </tr>\n",
       "  </thead>\n",
       "  <tbody>\n",
       "    <tr>\n",
       "      <th>11</th>\n",
       "      <td>Autriche</td>\n",
       "      <td>2017</td>\n",
       "      <td>8819.901</td>\n",
       "      <td>3770.0</td>\n",
       "    </tr>\n",
       "    <tr>\n",
       "      <th>17</th>\n",
       "      <td>Belgique</td>\n",
       "      <td>2017</td>\n",
       "      <td>11419.748</td>\n",
       "      <td>3737.0</td>\n",
       "    </tr>\n",
       "    <tr>\n",
       "      <th>163</th>\n",
       "      <td>Turquie</td>\n",
       "      <td>2017</td>\n",
       "      <td>81116.450</td>\n",
       "      <td>3708.0</td>\n",
       "    </tr>\n",
       "    <tr>\n",
       "      <th>54</th>\n",
       "      <td>États-Unis d'Amérique</td>\n",
       "      <td>2017</td>\n",
       "      <td>325084.756</td>\n",
       "      <td>3682.0</td>\n",
       "    </tr>\n",
       "    <tr>\n",
       "      <th>80</th>\n",
       "      <td>Israël</td>\n",
       "      <td>2017</td>\n",
       "      <td>8243.848</td>\n",
       "      <td>3610.0</td>\n",
       "    </tr>\n",
       "    <tr>\n",
       "      <th>78</th>\n",
       "      <td>Irlande</td>\n",
       "      <td>2017</td>\n",
       "      <td>4753.279</td>\n",
       "      <td>3602.0</td>\n",
       "    </tr>\n",
       "    <tr>\n",
       "      <th>81</th>\n",
       "      <td>Italie</td>\n",
       "      <td>2017</td>\n",
       "      <td>60673.701</td>\n",
       "      <td>3578.0</td>\n",
       "    </tr>\n",
       "    <tr>\n",
       "      <th>95</th>\n",
       "      <td>Luxembourg</td>\n",
       "      <td>2017</td>\n",
       "      <td>591.910</td>\n",
       "      <td>3540.0</td>\n",
       "    </tr>\n",
       "    <tr>\n",
       "      <th>47</th>\n",
       "      <td>Égypte</td>\n",
       "      <td>2017</td>\n",
       "      <td>96442.591</td>\n",
       "      <td>3518.0</td>\n",
       "    </tr>\n",
       "    <tr>\n",
       "      <th>4</th>\n",
       "      <td>Allemagne</td>\n",
       "      <td>2017</td>\n",
       "      <td>82658.409</td>\n",
       "      <td>3503.0</td>\n",
       "    </tr>\n",
       "  </tbody>\n",
       "</table>\n",
       "</div>"
      ],
      "text/plain": [
       "                      Zone  Année      Valeur  \\\n",
       "11                Autriche   2017    8819.901   \n",
       "17                Belgique   2017   11419.748   \n",
       "163                Turquie   2017   81116.450   \n",
       "54   États-Unis d'Amérique   2017  325084.756   \n",
       "80                  Israël   2017    8243.848   \n",
       "78                 Irlande   2017    4753.279   \n",
       "81                  Italie   2017   60673.701   \n",
       "95              Luxembourg   2017     591.910   \n",
       "47                  Égypte   2017   96442.591   \n",
       "4                Allemagne   2017   82658.409   \n",
       "\n",
       "     Disponibilité alimentaire (Kcal/personne/jour)  \n",
       "11                                           3770.0  \n",
       "17                                           3737.0  \n",
       "163                                          3708.0  \n",
       "54                                           3682.0  \n",
       "80                                           3610.0  \n",
       "78                                           3602.0  \n",
       "81                                           3578.0  \n",
       "95                                           3540.0  \n",
       "47                                           3518.0  \n",
       "4                                            3503.0  "
      ]
     },
     "execution_count": 67,
     "metadata": {},
     "output_type": "execute_result"
    }
   ],
   "source": [
    "# Affichage des 10 premiers résultats\n",
    "paysDispoPlus.head(10)"
   ]
  },
  {
   "cell_type": "code",
   "execution_count": 68,
   "id": "f4d2491d",
   "metadata": {},
   "outputs": [],
   "source": [
    "# Création d'une dataframe qui affiche les pays avec le moins de disponibilité alimentaire\n",
    "paysDispoMoins = dispo.sort_values(by = ['Disponibilité alimentaire (Kcal/personne/jour)','Valeur'], ascending = True) "
   ]
  },
  {
   "cell_type": "code",
   "execution_count": 69,
   "id": "e899925a",
   "metadata": {},
   "outputs": [
    {
     "data": {
      "text/html": [
       "<div>\n",
       "<style scoped>\n",
       "    .dataframe tbody tr th:only-of-type {\n",
       "        vertical-align: middle;\n",
       "    }\n",
       "\n",
       "    .dataframe tbody tr th {\n",
       "        vertical-align: top;\n",
       "    }\n",
       "\n",
       "    .dataframe thead th {\n",
       "        text-align: right;\n",
       "    }\n",
       "</style>\n",
       "<table border=\"1\" class=\"dataframe\">\n",
       "  <thead>\n",
       "    <tr style=\"text-align: right;\">\n",
       "      <th></th>\n",
       "      <th>Zone</th>\n",
       "      <th>Année</th>\n",
       "      <th>Valeur</th>\n",
       "      <th>Disponibilité alimentaire (Kcal/personne/jour)</th>\n",
       "    </tr>\n",
       "  </thead>\n",
       "  <tbody>\n",
       "    <tr>\n",
       "      <th>131</th>\n",
       "      <td>République centrafricaine</td>\n",
       "      <td>2017</td>\n",
       "      <td>4596.023</td>\n",
       "      <td>1879.0</td>\n",
       "    </tr>\n",
       "    <tr>\n",
       "      <th>170</th>\n",
       "      <td>Zambie</td>\n",
       "      <td>2017</td>\n",
       "      <td>16853.599</td>\n",
       "      <td>1924.0</td>\n",
       "    </tr>\n",
       "    <tr>\n",
       "      <th>97</th>\n",
       "      <td>Madagascar</td>\n",
       "      <td>2017</td>\n",
       "      <td>25570.512</td>\n",
       "      <td>2056.0</td>\n",
       "    </tr>\n",
       "    <tr>\n",
       "      <th>0</th>\n",
       "      <td>Afghanistan</td>\n",
       "      <td>2017</td>\n",
       "      <td>36296.113</td>\n",
       "      <td>2087.0</td>\n",
       "    </tr>\n",
       "    <tr>\n",
       "      <th>70</th>\n",
       "      <td>Haïti</td>\n",
       "      <td>2017</td>\n",
       "      <td>10982.366</td>\n",
       "      <td>2089.0</td>\n",
       "    </tr>\n",
       "    <tr>\n",
       "      <th>136</th>\n",
       "      <td>République populaire démocratique de Corée</td>\n",
       "      <td>2017</td>\n",
       "      <td>25429.825</td>\n",
       "      <td>2093.0</td>\n",
       "    </tr>\n",
       "    <tr>\n",
       "      <th>156</th>\n",
       "      <td>Tchad</td>\n",
       "      <td>2017</td>\n",
       "      <td>15016.753</td>\n",
       "      <td>2109.0</td>\n",
       "    </tr>\n",
       "    <tr>\n",
       "      <th>171</th>\n",
       "      <td>Zimbabwe</td>\n",
       "      <td>2017</td>\n",
       "      <td>14236.595</td>\n",
       "      <td>2113.0</td>\n",
       "    </tr>\n",
       "    <tr>\n",
       "      <th>120</th>\n",
       "      <td>Ouganda</td>\n",
       "      <td>2017</td>\n",
       "      <td>41166.588</td>\n",
       "      <td>2126.0</td>\n",
       "    </tr>\n",
       "    <tr>\n",
       "      <th>158</th>\n",
       "      <td>Timor-Leste</td>\n",
       "      <td>2017</td>\n",
       "      <td>1243.258</td>\n",
       "      <td>2129.0</td>\n",
       "    </tr>\n",
       "  </tbody>\n",
       "</table>\n",
       "</div>"
      ],
      "text/plain": [
       "                                           Zone  Année     Valeur  \\\n",
       "131                   République centrafricaine   2017   4596.023   \n",
       "170                                      Zambie   2017  16853.599   \n",
       "97                                   Madagascar   2017  25570.512   \n",
       "0                                   Afghanistan   2017  36296.113   \n",
       "70                                        Haïti   2017  10982.366   \n",
       "136  République populaire démocratique de Corée   2017  25429.825   \n",
       "156                                       Tchad   2017  15016.753   \n",
       "171                                    Zimbabwe   2017  14236.595   \n",
       "120                                     Ouganda   2017  41166.588   \n",
       "158                                 Timor-Leste   2017   1243.258   \n",
       "\n",
       "     Disponibilité alimentaire (Kcal/personne/jour)  \n",
       "131                                          1879.0  \n",
       "170                                          1924.0  \n",
       "97                                           2056.0  \n",
       "0                                            2087.0  \n",
       "70                                           2089.0  \n",
       "136                                          2093.0  \n",
       "156                                          2109.0  \n",
       "171                                          2113.0  \n",
       "120                                          2126.0  \n",
       "158                                          2129.0  "
      ]
     },
     "execution_count": 69,
     "metadata": {},
     "output_type": "execute_result"
    }
   ],
   "source": [
    "# Affichage des 10 premires résultats\n",
    "paysDispoMoins.head(10)"
   ]
  },
  {
   "cell_type": "code",
   "execution_count": 70,
   "id": "d7c8fbcd",
   "metadata": {},
   "outputs": [],
   "source": [
    "#Les pays ayant le moins de disponibilité alimentaire/habitant coincident avec les pays \n",
    "#ayant le plus haut taux de sous-nutrition"
   ]
  },
  {
   "cell_type": "markdown",
   "id": "9bd9102a",
   "metadata": {},
   "source": [
    "# Répartition des céréales entre l'alimentation humaine et animale "
   ]
  },
  {
   "cell_type": "code",
   "execution_count": 71,
   "id": "02e42671",
   "metadata": {},
   "outputs": [],
   "source": [
    "# Ouverture du fichier téléchargé sur FAO\n",
    "cerealesDispo = pd.read_csv(\"DAN-P4-FAO/cereales-2017.csv\")"
   ]
  },
  {
   "cell_type": "code",
   "execution_count": 72,
   "id": "e7b1355b",
   "metadata": {},
   "outputs": [
    {
     "data": {
      "text/plain": [
       "array(['Abats Comestible', 'Agrumes, Autres', 'Aliments pour enfants',\n",
       "       'Ananas', 'Bananes', 'Beurre, Ghee', 'Bière', 'Blé',\n",
       "       'Boissons Alcooliques', 'Café', 'Coco (Incl Coprah)', 'Crème',\n",
       "       'Céréales, Autres', 'Dattes', 'Edulcorants Autres',\n",
       "       'Feve de Cacao', 'Fruits, Autres', 'Graines de coton',\n",
       "       'Graines de tournesol', 'Graisses Animales Crue',\n",
       "       'Huil Plantes Oleif Autr', 'Huile Graines de Coton',\n",
       "       \"Huile d'Arachide\", \"Huile d'Olive\", 'Huile de Colza&Moutarde',\n",
       "       'Huile de Palme', 'Huile de Soja', 'Huile de Sésame',\n",
       "       'Huile de Tournesol', 'Lait - Excl Beurre', 'Légumes, Autres',\n",
       "       'Légumineuses Autres', 'Maïs', 'Miel', 'Millet', 'Miscellanees',\n",
       "       'Noix', 'Oeufs', 'Olives', 'Oranges, Mandarines', 'Orge',\n",
       "       'Plantes Oleiferes, Autre', 'Poissons Eau Douce', 'Poivre',\n",
       "       'Pommes', 'Pommes de Terre', 'Raisin', 'Riz (Eq Blanchi)',\n",
       "       'Sucre Eq Brut', 'Sucre, betterave', 'Sucre, canne', 'Sésame',\n",
       "       'Thé', 'Tomates', \"Viande d'Ovins/Caprins\", 'Viande de Bovins',\n",
       "       'Viande de Volailles', 'Viande, Autre', 'Vin', 'Épices, Autres',\n",
       "       'Alcool, non Comestible', 'Animaux Aquatiques Autre',\n",
       "       'Arachides Decortiquees', 'Avoine', 'Bananes plantains',\n",
       "       'Boissons Fermentés', 'Cephalopodes', 'Citrons & Limes',\n",
       "       'Crustacés', 'Girofles', 'Graines Colza/Moutarde', 'Haricots',\n",
       "       'Huile de Coco', 'Huile de Germe de Maïs', 'Huile de Palmistes',\n",
       "       'Huiles de Foie de Poisso', 'Huiles de Poissons', 'Ignames',\n",
       "       'Manioc', 'Mollusques, Autres', 'Oignons', 'Palmistes',\n",
       "       'Pamplemousse', 'Patates douces', 'Perciform', 'Piments',\n",
       "       'Plantes Aquatiques', 'Pois', 'Poissons Marins, Autres',\n",
       "       'Poissons Pelagiques', 'Racines nda', 'Seigle', 'Soja', 'Sorgho',\n",
       "       'Viande de Suides', 'Huile de Son de Riz', 'Sucre non centrifugé',\n",
       "       'Viande de Anim Aquatiq'], dtype=object)"
      ]
     },
     "execution_count": 72,
     "metadata": {},
     "output_type": "execute_result"
    }
   ],
   "source": [
    "# Affichage de toutes les valeurs unique de la colonne 'Produit'\n",
    "dispoAlimentaire['Produit'].unique()"
   ]
  },
  {
   "cell_type": "code",
   "execution_count": 73,
   "id": "3acfeae8",
   "metadata": {},
   "outputs": [
    {
     "data": {
      "text/html": [
       "<div>\n",
       "<style scoped>\n",
       "    .dataframe tbody tr th:only-of-type {\n",
       "        vertical-align: middle;\n",
       "    }\n",
       "\n",
       "    .dataframe tbody tr th {\n",
       "        vertical-align: top;\n",
       "    }\n",
       "\n",
       "    .dataframe thead th {\n",
       "        text-align: right;\n",
       "    }\n",
       "</style>\n",
       "<table border=\"1\" class=\"dataframe\">\n",
       "  <thead>\n",
       "    <tr style=\"text-align: right;\">\n",
       "      <th></th>\n",
       "      <th>Domaine</th>\n",
       "      <th>Zone</th>\n",
       "      <th>Élément</th>\n",
       "      <th>Produit</th>\n",
       "      <th>Année</th>\n",
       "      <th>Valeur</th>\n",
       "    </tr>\n",
       "  </thead>\n",
       "  <tbody>\n",
       "    <tr>\n",
       "      <th>0</th>\n",
       "      <td>Nouveaux Bilans Alimentaire</td>\n",
       "      <td>Afghanistan</td>\n",
       "      <td>Production</td>\n",
       "      <td>Blé et produits</td>\n",
       "      <td>2017</td>\n",
       "      <td>4281.0</td>\n",
       "    </tr>\n",
       "    <tr>\n",
       "      <th>1</th>\n",
       "      <td>Nouveaux Bilans Alimentaire</td>\n",
       "      <td>Afghanistan</td>\n",
       "      <td>Importations - Quantité</td>\n",
       "      <td>Blé et produits</td>\n",
       "      <td>2017</td>\n",
       "      <td>3080.0</td>\n",
       "    </tr>\n",
       "    <tr>\n",
       "      <th>2</th>\n",
       "      <td>Nouveaux Bilans Alimentaire</td>\n",
       "      <td>Afghanistan</td>\n",
       "      <td>Variation de stock</td>\n",
       "      <td>Blé et produits</td>\n",
       "      <td>2017</td>\n",
       "      <td>32.0</td>\n",
       "    </tr>\n",
       "    <tr>\n",
       "      <th>3</th>\n",
       "      <td>Nouveaux Bilans Alimentaire</td>\n",
       "      <td>Afghanistan</td>\n",
       "      <td>Exportations - Quantité</td>\n",
       "      <td>Blé et produits</td>\n",
       "      <td>2017</td>\n",
       "      <td>2.0</td>\n",
       "    </tr>\n",
       "    <tr>\n",
       "      <th>4</th>\n",
       "      <td>Nouveaux Bilans Alimentaire</td>\n",
       "      <td>Afghanistan</td>\n",
       "      <td>Disponibilité intérieure</td>\n",
       "      <td>Blé et produits</td>\n",
       "      <td>2017</td>\n",
       "      <td>7326.0</td>\n",
       "    </tr>\n",
       "  </tbody>\n",
       "</table>\n",
       "</div>"
      ],
      "text/plain": [
       "                       Domaine         Zone                   Élément  \\\n",
       "0  Nouveaux Bilans Alimentaire  Afghanistan                Production   \n",
       "1  Nouveaux Bilans Alimentaire  Afghanistan   Importations - Quantité   \n",
       "2  Nouveaux Bilans Alimentaire  Afghanistan        Variation de stock   \n",
       "3  Nouveaux Bilans Alimentaire  Afghanistan   Exportations - Quantité   \n",
       "4  Nouveaux Bilans Alimentaire  Afghanistan  Disponibilité intérieure   \n",
       "\n",
       "           Produit  Année  Valeur  \n",
       "0  Blé et produits   2017  4281.0  \n",
       "1  Blé et produits   2017  3080.0  \n",
       "2  Blé et produits   2017    32.0  \n",
       "3  Blé et produits   2017     2.0  \n",
       "4  Blé et produits   2017  7326.0  "
      ]
     },
     "execution_count": 73,
     "metadata": {},
     "output_type": "execute_result"
    }
   ],
   "source": [
    "# Affichage de toutes les valeurs\n",
    "cerealesDispo.head()"
   ]
  },
  {
   "cell_type": "code",
   "execution_count": 74,
   "id": "db87dbe3",
   "metadata": {},
   "outputs": [
    {
     "data": {
      "text/plain": [
       "array(['Blé et produits', 'Riz et produits', 'Orge et produits',\n",
       "       'Maïs et produits', 'Seigle et produits', 'Avoine',\n",
       "       'Millet et produits', 'Sorgho et produits', 'Céréales, Autres'],\n",
       "      dtype=object)"
      ]
     },
     "execution_count": 74,
     "metadata": {},
     "output_type": "execute_result"
    }
   ],
   "source": [
    "# Affichage de toutes les valeurs uniques de la colonne 'Produit'\n",
    "cerealesDispo['Produit'].unique()"
   ]
  },
  {
   "cell_type": "code",
   "execution_count": 75,
   "id": "2e856486",
   "metadata": {},
   "outputs": [],
   "source": [
    "#Filtre sur les céréales\n",
    "dispoA_filtered = dispoAlimentaire.loc[dispoAlimentaire.Produit.isin(list(cerealesDispo['Produit'].unique()))]"
   ]
  },
  {
   "cell_type": "code",
   "execution_count": 76,
   "id": "406a539c",
   "metadata": {},
   "outputs": [
    {
     "name": "stdout",
     "output_type": "stream",
     "text": [
      "La proportion de céréales destinée l'alimentation humaine est de : 18.13 %\n",
      "La proportion de céréales destinée aux animaux est de : 69.34 %\n"
     ]
    }
   ],
   "source": [
    "# Calcul de la proportion de céréales destinée aux Hommes et celle pour les animaux , filtrer sur \n",
    "dispoHomme = dispoA_filtered['Nourriture'].sum()/dispoA_filtered['Disponibilité intérieure'].sum()*100\n",
    "dispoAnimaux = dispoA_filtered['Aliments pour animaux'].sum()/dispoA_filtered['Disponibilité intérieure'].sum()*100\n",
    "\n",
    "print(\"La proportion de céréales destinée l'alimentation humaine est de : {:,.2f} %\".format(dispoHomme).replace(',', ' '))\n",
    "print(\"La proportion de céréales destinée aux animaux est de : {:,.2f} %\".format(dispoAnimaux).replace(',', ' '))"
   ]
  },
  {
   "cell_type": "code",
   "execution_count": 77,
   "id": "cbbba4e3",
   "metadata": {},
   "outputs": [],
   "source": [
    "#La grande majorité de disponibilité alimentaire est d'origine végétale , parmis elle les céréales qui sont déstinés \n",
    "#pour la plupart aux animaux"
   ]
  },
  {
   "cell_type": "markdown",
   "id": "c4842346",
   "metadata": {},
   "source": [
    "# La Thaïlande et l'utilisation du manioc"
   ]
  },
  {
   "cell_type": "code",
   "execution_count": 78,
   "id": "0552a872",
   "metadata": {},
   "outputs": [
    {
     "data": {
      "text/html": [
       "<div>\n",
       "<style scoped>\n",
       "    .dataframe tbody tr th:only-of-type {\n",
       "        vertical-align: middle;\n",
       "    }\n",
       "\n",
       "    .dataframe tbody tr th {\n",
       "        vertical-align: top;\n",
       "    }\n",
       "\n",
       "    .dataframe thead th {\n",
       "        text-align: right;\n",
       "    }\n",
       "</style>\n",
       "<table border=\"1\" class=\"dataframe\">\n",
       "  <thead>\n",
       "    <tr style=\"text-align: right;\">\n",
       "      <th></th>\n",
       "      <th>Zone</th>\n",
       "      <th>Produit</th>\n",
       "      <th>Origine</th>\n",
       "      <th>Aliments pour animaux</th>\n",
       "      <th>Autres Utilisations</th>\n",
       "      <th>Disponibilité alimentaire (Kcal/personne/jour)</th>\n",
       "      <th>Disponibilité alimentaire en quantité (kg/personne/an)</th>\n",
       "      <th>Disponibilité de matière grasse en quantité (g/personne/jour)</th>\n",
       "      <th>Disponibilité de protéines en quantité (g/personne/jour)</th>\n",
       "      <th>Disponibilité intérieure</th>\n",
       "      <th>Exportations - Quantité</th>\n",
       "      <th>Importations - Quantité</th>\n",
       "      <th>Nourriture</th>\n",
       "      <th>Pertes</th>\n",
       "      <th>Production</th>\n",
       "      <th>Semences</th>\n",
       "      <th>Traitement</th>\n",
       "      <th>Variation de stock</th>\n",
       "    </tr>\n",
       "  </thead>\n",
       "  <tbody>\n",
       "    <tr>\n",
       "      <th>13809</th>\n",
       "      <td>Thaïlande</td>\n",
       "      <td>Manioc</td>\n",
       "      <td>vegetale</td>\n",
       "      <td>1800.0</td>\n",
       "      <td>2081.0</td>\n",
       "      <td>40.0</td>\n",
       "      <td>13.0</td>\n",
       "      <td>0.05</td>\n",
       "      <td>0.14</td>\n",
       "      <td>6264.0</td>\n",
       "      <td>25214.0</td>\n",
       "      <td>1250.0</td>\n",
       "      <td>871.0</td>\n",
       "      <td>1511.0</td>\n",
       "      <td>30228.0</td>\n",
       "      <td>NaN</td>\n",
       "      <td>0.0</td>\n",
       "      <td>0.0</td>\n",
       "    </tr>\n",
       "  </tbody>\n",
       "</table>\n",
       "</div>"
      ],
      "text/plain": [
       "            Zone Produit   Origine  Aliments pour animaux  \\\n",
       "13809  Thaïlande  Manioc  vegetale                 1800.0   \n",
       "\n",
       "       Autres Utilisations  Disponibilité alimentaire (Kcal/personne/jour)  \\\n",
       "13809               2081.0                                            40.0   \n",
       "\n",
       "       Disponibilité alimentaire en quantité (kg/personne/an)  \\\n",
       "13809                                               13.0        \n",
       "\n",
       "       Disponibilité de matière grasse en quantité (g/personne/jour)  \\\n",
       "13809                                               0.05               \n",
       "\n",
       "       Disponibilité de protéines en quantité (g/personne/jour)  \\\n",
       "13809                                               0.14          \n",
       "\n",
       "       Disponibilité intérieure  Exportations - Quantité  \\\n",
       "13809                    6264.0                  25214.0   \n",
       "\n",
       "       Importations - Quantité  Nourriture  Pertes  Production  Semences  \\\n",
       "13809                   1250.0       871.0  1511.0     30228.0       NaN   \n",
       "\n",
       "       Traitement  Variation de stock  \n",
       "13809         0.0                 0.0  "
      ]
     },
     "execution_count": 78,
     "metadata": {},
     "output_type": "execute_result"
    }
   ],
   "source": [
    "# J'applique mes deux restrictions sur mes colonnes 'Zone' et 'Produit'\n",
    "dispoAlimentaireThailande =dispoAlimentaire.loc[(dispoAlimentaire['Zone']=='Thaïlande')& \\\n",
    "                                                (dispoAlimentaire['Produit']=='Manioc'),:]\n",
    "dispoAlimentaireThailande.head()"
   ]
  },
  {
   "cell_type": "code",
   "execution_count": 79,
   "id": "6d3f9aa2",
   "metadata": {},
   "outputs": [
    {
     "name": "stdout",
     "output_type": "stream",
     "text": [
      "La proportion d exportation  83.41\n"
     ]
    }
   ],
   "source": [
    "# Calcul de la proportion de manioc pour l'exportation\n",
    "maniocExportation = (dispoAlimentaireThailande['Exportations - Quantité'].sum())/(dispoAlimentaireThailande \\\n",
    "                                                                                  ['Production'].sum())*100\n",
    "print(f'La proportion d exportation ',round(maniocExportation,2))"
   ]
  },
  {
   "cell_type": "code",
   "execution_count": 80,
   "id": "6b7d2d9d",
   "metadata": {},
   "outputs": [],
   "source": [
    "#Séléction de la population en sous nutrition sur la Thailande\n",
    "sousNutritionThailande = sousNutrition[sousNutrition.Zone=='Thaïlande']"
   ]
  },
  {
   "cell_type": "code",
   "execution_count": 81,
   "id": "52044890",
   "metadata": {},
   "outputs": [],
   "source": [
    "proportion = (sousNutritionThailande['Personne sous-nutrition'].sum()/ sousNutritionThailande['Population']\\\n",
    "              .sum())*100"
   ]
  },
  {
   "cell_type": "code",
   "execution_count": 82,
   "id": "87fb8d12",
   "metadata": {},
   "outputs": [
    {
     "name": "stdout",
     "output_type": "stream",
     "text": [
      "La proportion de sous-nutrition en Thaïlande est de: 8.96 %\n"
     ]
    }
   ],
   "source": [
    "# Calcul de la proportion de sous-nutrition en Thaïlande\n",
    "\n",
    "print(\"La proportion de sous-nutrition en Thaïlande est de: {:,.2f} %\".format(proportion).replace(',', ' '))"
   ]
  },
  {
   "cell_type": "code",
   "execution_count": 83,
   "id": "d9154be4",
   "metadata": {},
   "outputs": [],
   "source": [
    "#La majorité du manioc est exporté de la thailande alors que le pays a une proportion de sous-nutrition de 8.96 %\n",
    "#et en aurait surement besoin"
   ]
  }
 ],
 "metadata": {
  "kernelspec": {
   "display_name": "Python 3 (ipykernel)",
   "language": "python",
   "name": "python3"
  },
  "language_info": {
   "codemirror_mode": {
    "name": "ipython",
    "version": 3
   },
   "file_extension": ".py",
   "mimetype": "text/x-python",
   "name": "python",
   "nbconvert_exporter": "python",
   "pygments_lexer": "ipython3",
   "version": "3.9.12"
  }
 },
 "nbformat": 4,
 "nbformat_minor": 5
}
